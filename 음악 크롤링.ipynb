{
 "cells": [
  {
   "cell_type": "code",
   "execution_count": 1,
   "metadata": {},
   "outputs": [],
   "source": [
    "from pymongo import MongoClient"
   ]
  },
  {
   "cell_type": "code",
   "execution_count": 2,
   "metadata": {},
   "outputs": [
    {
     "data": {
      "text/plain": [
       "MongoClient(host=['localhost:27017'], document_class=dict, tz_aware=False, connect=True)"
      ]
     },
     "execution_count": 2,
     "metadata": {},
     "output_type": "execute_result"
    }
   ],
   "source": [
    "conn = MongoClient(\"mongodb://localhost\")\n",
    "conn"
   ]
  },
  {
   "cell_type": "code",
   "execution_count": 3,
   "metadata": {},
   "outputs": [
    {
     "data": {
      "text/plain": [
       "Database(MongoClient(host=['localhost:27017'], document_class=dict, tz_aware=False, connect=True), 'melon')"
      ]
     },
     "execution_count": 3,
     "metadata": {},
     "output_type": "execute_result"
    }
   ],
   "source": [
    "mel = conn.melon\n",
    "mel"
   ]
  },
  {
   "cell_type": "code",
   "execution_count": 4,
   "metadata": {},
   "outputs": [
    {
     "data": {
      "text/plain": [
       "Collection(Database(MongoClient(host=['localhost:27017'], document_class=dict, tz_aware=False, connect=True), 'melon'), 'docu')"
      ]
     },
     "execution_count": 4,
     "metadata": {},
     "output_type": "execute_result"
    }
   ],
   "source": [
    "docu = mel.docu\n",
    "docu"
   ]
  },
  {
   "cell_type": "code",
   "execution_count": 5,
   "metadata": {},
   "outputs": [],
   "source": [
    "from bs4 import BeautifulSoup\n",
    "import requests"
   ]
  },
  {
   "cell_type": "code",
   "execution_count": 6,
   "metadata": {},
   "outputs": [],
   "source": [
    "music_url = 'https://www.melon.com/chart/index.htm'\n",
    "headers = {'User-Agent': 'Mozilla/5.0 (X11; CrOS i686 2268.111.0) AppleWebKit/536.11 (KHTML, like Gecko) Chrome/20.0.1132.57'}"
   ]
  },
  {
   "cell_type": "code",
   "execution_count": 7,
   "metadata": {},
   "outputs": [],
   "source": [
    "response = requests.get(music_url, headers=headers)"
   ]
  },
  {
   "cell_type": "code",
   "execution_count": 8,
   "metadata": {},
   "outputs": [],
   "source": [
    "res = response.text"
   ]
  },
  {
   "cell_type": "code",
   "execution_count": 9,
   "metadata": {},
   "outputs": [],
   "source": [
    "soup = BeautifulSoup(res, 'html.parser')"
   ]
  },
  {
   "cell_type": "code",
   "execution_count": 10,
   "metadata": {},
   "outputs": [],
   "source": [
    "image = []"
   ]
  },
  {
   "cell_type": "code",
   "execution_count": 11,
   "metadata": {},
   "outputs": [
    {
     "data": {
      "text/plain": [
       "[<img alt=\"쇼미더머니 9 Episode 1 - 페이지 이동\" height=\"60\" onerror=\"WEBPOCIMG.defaultAlbumImg(this);\" src=\"https://cdnimg.melon.co.kr/cm2/album/images/105/21/601/10521601_20201120125511_500.jpg/melon/resize/120/quality/80/optimize\" width=\"60\">\n",
       " <span class=\"bg_album_frame\"></span>\n",
       " </img>,\n",
       " <img alt=\"밤하늘의 별을(2020) - 페이지 이동\" height=\"60\" onerror=\"WEBPOCIMG.defaultAlbumImg(this);\" src=\"https://cdnimg.melon.co.kr/cm2/album/images/105/18/234/10518234_20201113150500_500.jpg/melon/resize/120/quality/80/optimize\" width=\"60\"/>,\n",
       " <img alt=\"Dynamite (DayTime Version) - 페이지 이동\" height=\"60\" onerror=\"WEBPOCIMG.defaultAlbumImg(this);\" src=\"https://cdnimg.melon.co.kr/cm2/album/images/104/79/150/10479150_20200918102847_500.jpg/melon/resize/120/quality/80/optimize\" width=\"60\"/>,\n",
       " <img alt=\"잠이 오질 않네요 - 페이지 이동\" height=\"60\" onerror=\"WEBPOCIMG.defaultAlbumImg(this);\" src=\"https://cdnimg.melon.co.kr/cm2/album/images/105/08/266/10508266_20201023171236_500.jpg/melon/resize/120/quality/80/optimize\" width=\"60\"/>,\n",
       " <img alt=\"쇼미더머니 9 Episode 3 - 페이지 이동\" height=\"60\" onerror=\"WEBPOCIMG.defaultAlbumImg(this);\" src=\"https://cdnimg.melon.co.kr/cm2/album/images/105/29/161/10529161_20201204130014_500.jpg/melon/resize/120/quality/80/optimize\" width=\"60\"/>,\n",
       " <img alt=\"힘든 건 사랑이 아니다 - 페이지 이동\" height=\"60\" onerror=\"WEBPOCIMG.defaultAlbumImg(this);\" src=\"https://cdnimg.melon.co.kr/cm2/album/images/105/05/118/10505118_20201019112710_500.jpg/melon/resize/120/quality/80/optimize\" width=\"60\"/>,\n",
       " <img alt=\"취기를 빌려 (취향저격 그녀 X 산들) - 페이지 이동\" height=\"60\" onerror=\"WEBPOCIMG.defaultAlbumImg(this);\" src=\"https://cdnimg.melon.co.kr/cm2/album/images/104/63/600/10463600_20200720152905_500.jpg/melon/resize/120/quality/80/optimize\" width=\"60\"/>,\n",
       " <img alt=\"THE ALBUM - 페이지 이동\" height=\"60\" onerror=\"WEBPOCIMG.defaultAlbumImg(this);\" src=\"https://cdnimg.melon.co.kr/cm2/album/images/104/98/032/10498032_20200929122954_500.jpg/melon/resize/120/quality/80/optimize\" width=\"60\"/>,\n",
       " <img alt=\"BE - 페이지 이동\" height=\"60\" onerror=\"WEBPOCIMG.defaultAlbumImg(this);\" src=\"https://cdnimg.melon.co.kr/cm2/album/images/105/21/521/10521521_20201120112220_500.jpg/melon/resize/120/quality/80/optimize\" width=\"60\"/>,\n",
       " <img alt=\"오래된 노래 - 페이지 이동\" height=\"60\" onerror=\"WEBPOCIMG.defaultAlbumImg(this);\" src=\"https://cdnimg.melon.co.kr/cm/album/images/021/48/596/2148596_500.jpg/melon/resize/120/quality/80/optimize\" width=\"60\"/>,\n",
       " <img alt=\"쇼미더머니 9 Final - 페이지 이동\" height=\"60\" onerror=\"WEBPOCIMG.defaultAlbumImg(this);\" src=\"https://cdnimg.melon.co.kr/cm2/album/images/105/36/658/10536658_20201218161800_500.jpg/melon/resize/120/quality/80/optimize\" width=\"60\"/>,\n",
       " <img alt=\"Savage Love (Laxed - Siren Beat) [BTS Remix] - 페이지 이동\" height=\"60\" onerror=\"WEBPOCIMG.defaultAlbumImg(this);\" src=\"https://cdnimg.melon.co.kr/cm2/album/images/104/98/123/10498123_20201002094556_500.jpg/melon/resize/120/quality/80/optimize\" width=\"60\"/>,\n",
       " <img alt=\"내 마음이 움찔했던 순간 (취향저격 그녀 X 규현) - 페이지 이동\" height=\"60\" onerror=\"WEBPOCIMG.defaultAlbumImg(this);\" src=\"https://cdnimg.melon.co.kr/cm2/album/images/104/78/925/10478925_20200820171048_500.jpg/melon/resize/120/quality/80/optimize\" width=\"60\"/>,\n",
       " <img alt=\"나랑 같이 걸을래 (바른연애 길잡이 X 적재) - 페이지 이동\" height=\"60\" onerror=\"WEBPOCIMG.defaultAlbumImg(this);\" src=\"https://cdnimg.melon.co.kr/cm2/album/images/105/07/546/10507546_20201022162417_500.jpg/melon/resize/120/quality/80/optimize\" width=\"60\"/>,\n",
       " <img alt=\"항해 - 페이지 이동\" height=\"60\" onerror=\"WEBPOCIMG.defaultAlbumImg(this);\" src=\"https://cdnimg.melon.co.kr/cm2/album/images/103/31/947/10331947_500.jpg/melon/resize/120/quality/80/optimize\" width=\"60\"/>,\n",
       " <img alt=\"쇼미더머니 9 Episode 3 - 페이지 이동\" height=\"60\" onerror=\"WEBPOCIMG.defaultAlbumImg(this);\" src=\"https://cdnimg.melon.co.kr/cm2/album/images/105/29/161/10529161_20201204130014_500.jpg/melon/resize/120/quality/80/optimize\" width=\"60\"/>,\n",
       " <img alt=\"에잇 - 페이지 이동\" height=\"60\" onerror=\"WEBPOCIMG.defaultAlbumImg(this);\" src=\"https://cdnimg.melon.co.kr/cm2/album/images/104/26/648/10426648_20200506153340_500.jpg/melon/resize/120/quality/80/optimize\" width=\"60\"/>,\n",
       " <img alt=\"쇼미더머니 9 Final - 페이지 이동\" height=\"60\" onerror=\"WEBPOCIMG.defaultAlbumImg(this);\" src=\"https://cdnimg.melon.co.kr/cm2/album/images/105/36/658/10536658_20201218161800_500.jpg/melon/resize/120/quality/80/optimize\" width=\"60\"/>,\n",
       " <img alt=\"혼술하고 싶은 밤 - 페이지 이동\" height=\"60\" onerror=\"WEBPOCIMG.defaultAlbumImg(this);\" src=\"https://cdnimg.melon.co.kr/cm2/album/images/105/27/241/10527241_20201202101208_500.jpg/melon/resize/120/quality/80/optimize\" width=\"60\"/>,\n",
       " <img alt=\"When We Disco - 페이지 이동\" height=\"60\" onerror=\"WEBPOCIMG.defaultAlbumImg(this);\" src=\"https://cdnimg.melon.co.kr/cm2/album/images/104/75/061/10475061_20200812120927_500.jpg/melon/resize/120/quality/80/optimize\" width=\"60\"/>,\n",
       " <img alt=\"쇼미더머니 9 Episode 1 - 페이지 이동\" height=\"60\" onerror=\"WEBPOCIMG.defaultAlbumImg(this);\" src=\"https://cdnimg.melon.co.kr/cm2/album/images/105/21/601/10521601_20201120125511_500.jpg/melon/resize/120/quality/80/optimize\" width=\"60\"/>,\n",
       " <img alt=\"늦은 밤 너의 집 앞 골목길에서 - 페이지 이동\" height=\"60\" onerror=\"WEBPOCIMG.defaultAlbumImg(this);\" src=\"https://cdnimg.melon.co.kr/cm2/album/images/103/48/811/10348811_500.jpg/melon/resize/120/quality/80/optimize\" width=\"60\"/>,\n",
       " <img alt=\"멜로가 체질 OST Part 3 - 페이지 이동\" height=\"60\" onerror=\"WEBPOCIMG.defaultAlbumImg(this);\" src=\"https://cdnimg.melon.co.kr/cm2/album/images/103/20/500/10320500_500.jpg/melon/resize/120/quality/80/optimize\" width=\"60\"/>,\n",
       " <img alt=\"어떻게 지내 - 페이지 이동\" height=\"60\" onerror=\"WEBPOCIMG.defaultAlbumImg(this);\" src=\"https://cdnimg.melon.co.kr/cm2/album/images/103/99/190/10399190_20200305151138_500.jpg/melon/resize/120/quality/80/optimize\" width=\"60\"/>,\n",
       " <img alt=\"'키스 먼저 할까요?' OST Part.3 - 페이지 이동\" height=\"60\" onerror=\"WEBPOCIMG.defaultAlbumImg(this);\" src=\"https://cdnimg.melon.co.kr/cm/album/images/101/49/492/10149492_500.jpg/melon/resize/120/quality/80/optimize\" width=\"60\"/>,\n",
       " <img alt=\"How You Like That - 페이지 이동\" height=\"60\" onerror=\"WEBPOCIMG.defaultAlbumImg(this);\" src=\"https://cdnimg.melon.co.kr/cm2/album/images/104/51/566/10451566_20200626114914_500.jpg/melon/resize/120/quality/80/optimize\" width=\"60\"/>,\n",
       " <img alt=\"쇼미더머니 9 Episode 3 - 페이지 이동\" height=\"60\" onerror=\"WEBPOCIMG.defaultAlbumImg(this);\" src=\"https://cdnimg.melon.co.kr/cm2/album/images/105/29/161/10529161_20201204130014_500.jpg/melon/resize/120/quality/80/optimize\" width=\"60\"/>,\n",
       " <img alt=\"슬기로운 의사생활 OST Part 3 - 페이지 이동\" height=\"60\" onerror=\"WEBPOCIMG.defaultAlbumImg(this);\" src=\"https://cdnimg.melon.co.kr/cm2/album/images/104/09/054/10409054_20200326163459_500.jpg/melon/resize/120/quality/80/optimize\" width=\"60\"/>,\n",
       " <img alt=\"딩가딩가 (Dingga) - 페이지 이동\" height=\"60\" onerror=\"WEBPOCIMG.defaultAlbumImg(this);\" src=\"https://cdnimg.melon.co.kr/cm2/album/images/105/05/830/10505830_20201020115450_500.jpg/melon/resize/120/quality/80/optimize\" width=\"60\"/>,\n",
       " <img alt=\"Love poem - 페이지 이동\" height=\"60\" onerror=\"WEBPOCIMG.defaultAlbumImg(this);\" src=\"https://cdnimg.melon.co.kr/cm2/album/images/103/46/650/10346650_500.jpg/melon/resize/120/quality/80/optimize\" width=\"60\"/>,\n",
       " <img alt=\"Boyhood - 페이지 이동\" height=\"60\" onerror=\"WEBPOCIMG.defaultAlbumImg(this);\" src=\"https://cdnimg.melon.co.kr/cm2/album/images/103/59/162/10359162_500.jpg/melon/resize/120/quality/80/optimize\" width=\"60\"/>,\n",
       " <img alt=\"서면역에서 - 페이지 이동\" height=\"60\" onerror=\"WEBPOCIMG.defaultAlbumImg(this);\" src=\"https://cdnimg.melon.co.kr/cm2/album/images/104/25/277/10425277_20200504103213_500.jpg/melon/resize/120/quality/80/optimize\" width=\"60\"/>,\n",
       " <img alt=\"NONSTOP - 페이지 이동\" height=\"60\" onerror=\"WEBPOCIMG.defaultAlbumImg(this);\" src=\"https://cdnimg.melon.co.kr/cm2/album/images/104/23/289/10423289_20200427153909_500.jpg/melon/resize/120/quality/80/optimize\" width=\"60\"/>,\n",
       " <img alt=\"사실 나는 - 페이지 이동\" height=\"60\" onerror=\"WEBPOCIMG.defaultAlbumImg(this);\" src=\"https://cdnimg.melon.co.kr/cm2/album/images/104/16/034/10416034_20200410161209_500.jpg/melon/resize/120/quality/80/optimize\" width=\"60\"/>,\n",
       " <img alt=\"DON'T TOUCH ME - 페이지 이동\" height=\"60\" onerror=\"WEBPOCIMG.defaultAlbumImg(this);\" src=\"https://cdnimg.melon.co.kr/cm2/album/images/105/01/191/10501191_20201008173829_500.jpg/melon/resize/120/quality/80/optimize\" width=\"60\"/>,\n",
       " <img alt=\"사랑의 불시착 OST Part 11 - 페이지 이동\" height=\"60\" onerror=\"WEBPOCIMG.defaultAlbumImg(this);\" src=\"https://cdnimg.melon.co.kr/cm2/album/images/103/88/744/10388744_20200214175740_500.jpg/melon/resize/120/quality/80/optimize\" width=\"60\"/>,\n",
       " <img alt=\"쇼미더머니 9 Semi Final - 페이지 이동\" height=\"60\" onerror=\"WEBPOCIMG.defaultAlbumImg(this);\" src=\"https://cdnimg.melon.co.kr/cm2/album/images/105/32/919/10532919_20201211141451_500.jpg/melon/resize/120/quality/80/optimize\" width=\"60\"/>,\n",
       " <img alt=\"Red Moon : To You My Light - 페이지 이동\" height=\"60\" onerror=\"WEBPOCIMG.defaultAlbumImg(this);\" src=\"https://cdnimg.melon.co.kr/cm/album/images/102/94/603/10294603_500.jpg/melon/resize/120/quality/80/optimize\" width=\"60\"/>,\n",
       " <img alt=\"MAP OF THE SOUL : PERSONA - 페이지 이동\" height=\"60\" onerror=\"WEBPOCIMG.defaultAlbumImg(this);\" src=\"https://cdnimg.melon.co.kr/cm/album/images/102/73/641/10273641_500.jpg/melon/resize/120/quality/80/optimize\" width=\"60\"/>,\n",
       " <img alt=\"Eyes wide open - 페이지 이동\" height=\"60\" onerror=\"WEBPOCIMG.defaultAlbumImg(this);\" src=\"https://cdnimg.melon.co.kr/cm2/album/images/105/08/930/10508930_20201026160407_500.jpg/melon/resize/120/quality/80/optimize\" width=\"60\"/>,\n",
       " <img alt=\"거짓말이라도 해서 널 보고싶어 - 페이지 이동\" height=\"60\" onerror=\"WEBPOCIMG.defaultAlbumImg(this);\" src=\"https://cdnimg.melon.co.kr/cm2/album/images/104/60/544/10460544_20200714151651_500.jpg/melon/resize/120/quality/80/optimize\" width=\"60\"/>,\n",
       " <img alt=\"겨울잠 - 페이지 이동\" height=\"60\" onerror=\"WEBPOCIMG.defaultAlbumImg(this);\" src=\"https://cdnimg.melon.co.kr/cm2/album/images/105/44/166/10544166_20210107153435_500.jpg/melon/resize/120/quality/80/optimize\" width=\"60\"/>,\n",
       " <img alt=\"Memories - 페이지 이동\" height=\"60\" onerror=\"WEBPOCIMG.defaultAlbumImg(this);\" src=\"https://cdnimg.melon.co.kr/cm2/album/images/103/30/593/10330593_500.jpg/melon/resize/120/quality/80/optimize\" width=\"60\"/>,\n",
       " <img alt=\"그날에 나는 맘이 편했을까 - 페이지 이동\" height=\"60\" onerror=\"WEBPOCIMG.defaultAlbumImg(this);\" src=\"https://cdnimg.melon.co.kr/cm2/album/images/105/27/955/10527955_20201202190217_500.jpg/melon/resize/120/quality/80/optimize\" width=\"60\"/>,\n",
       " <img alt=\"María - 페이지 이동\" height=\"60\" onerror=\"WEBPOCIMG.defaultAlbumImg(this);\" src=\"https://cdnimg.melon.co.kr/cm2/album/images/104/52/351/10452351_20200629152036_500.jpg/melon/resize/120/quality/80/optimize\" width=\"60\"/>,\n",
       " <img alt=\"뻔한남자 - 페이지 이동\" height=\"60\" onerror=\"WEBPOCIMG.defaultAlbumImg(this);\" src=\"https://cdnimg.melon.co.kr/cm2/album/images/105/18/190/10518190_20201113143007_500.jpg/melon/resize/120/quality/80/optimize\" width=\"60\"/>,\n",
       " <img alt=\"이태원 클라쓰 OST Part.2 - 페이지 이동\" height=\"60\" onerror=\"WEBPOCIMG.defaultAlbumImg(this);\" src=\"https://cdnimg.melon.co.kr/cm2/album/images/103/81/712/10381712_20200131110358_500.jpg/melon/resize/120/quality/80/optimize\" width=\"60\"/>,\n",
       " <img alt=\"우리 왜 헤어져야 해 - 페이지 이동\" height=\"60\" onerror=\"WEBPOCIMG.defaultAlbumImg(this);\" src=\"https://cdnimg.melon.co.kr/cm2/album/images/103/53/881/10353881_500.jpg/melon/resize/120/quality/80/optimize\" width=\"60\"/>,\n",
       " <img alt=\"한 걸음 : 흔적 - 페이지 이동\" height=\"60\" onerror=\"WEBPOCIMG.defaultAlbumImg(this);\" src=\"https://cdnimg.melon.co.kr/cm2/album/images/104/40/381/10440381_20200605161232_500.jpg/melon/resize/120/quality/80/optimize\" width=\"60\"/>,\n",
       " <img alt=\"홀로 - 페이지 이동\" height=\"60\" onerror=\"WEBPOCIMG.defaultAlbumImg(this);\" src=\"https://cdnimg.melon.co.kr/cm2/album/images/104/65/994/10465994_20200723160043_500.jpg/melon/resize/120/quality/80/optimize\" width=\"60\"/>,\n",
       " <img alt=\"YOU NEVER WALK ALONE - 페이지 이동\" height=\"60\" onerror=\"WEBPOCIMG.defaultAlbumImg(this);\" src=\"https://cdnimg.melon.co.kr/cm/album/images/100/37/969/10037969_500.jpg/melon/resize/120/quality/80/optimize\" width=\"60\"/>,\n",
       " <img alt=\"Everyday Is Christmas (Deluxe) - 페이지 이동\" height=\"60\" onerror=\"WEBPOCIMG.defaultAlbumImg(this);\" src=\"https://cdnimg.melon.co.kr/cm/album/images/101/07/511/10107511_500.jpg/melon/resize/120/quality/80/optimize\" width=\"60\"/>,\n",
       " <img alt=\"쇼미더머니 9 Semi Final - 페이지 이동\" height=\"60\" onerror=\"WEBPOCIMG.defaultAlbumImg(this);\" src=\"https://cdnimg.melon.co.kr/cm2/album/images/105/32/919/10532919_20201211141451_500.jpg/melon/resize/120/quality/80/optimize\" width=\"60\"/>,\n",
       " <img alt=\"NUNA - 페이지 이동\" height=\"60\" onerror=\"WEBPOCIMG.defaultAlbumImg(this);\" src=\"https://cdnimg.melon.co.kr/cm2/album/images/104/69/416/10469416_20200730151034_500.jpg/melon/resize/120/quality/80/optimize\" width=\"60\"/>,\n",
       " <img alt=\"한잔이면 지워질까 - 페이지 이동\" height=\"60\" onerror=\"WEBPOCIMG.defaultAlbumImg(this);\" src=\"https://cdnimg.melon.co.kr/cm2/album/images/105/33/731/10533731_20201214154551_500.jpg/melon/resize/120/quality/80/optimize\" width=\"60\"/>,\n",
       " <img alt=\"잔나비 소곡집 l - 페이지 이동\" height=\"60\" onerror=\"WEBPOCIMG.defaultAlbumImg(this);\" src=\"https://cdnimg.melon.co.kr/cm2/album/images/105/14/407/10514407_20201105153840_500.jpg/melon/resize/120/quality/80/optimize\" width=\"60\"/>,\n",
       " <img alt=\"NONSTOP - 페이지 이동\" height=\"60\" onerror=\"WEBPOCIMG.defaultAlbumImg(this);\" src=\"https://cdnimg.melon.co.kr/cm2/album/images/104/23/289/10423289_20200427153909_500.jpg/melon/resize/120/quality/80/optimize\" width=\"60\"/>,\n",
       " <img alt=\"Speak Your Mind (Deluxe) - 페이지 이동\" height=\"60\" onerror=\"WEBPOCIMG.defaultAlbumImg(this);\" src=\"https://cdnimg.melon.co.kr/cm/album/images/101/37/250/10137250_500.jpg/melon/resize/120/quality/80/optimize\" width=\"60\"/>,\n",
       " <img alt=\"The Kids Are Coming - 페이지 이동\" height=\"60\" onerror=\"WEBPOCIMG.defaultAlbumImg(this);\" src=\"https://cdnimg.melon.co.kr/cm2/album/images/103/16/394/10316394_500.jpg/melon/resize/120/quality/80/optimize\" width=\"60\"/>,\n",
       " <img alt=\"What Do I Call You - The 4th Mini Album - 페이지 이동\" height=\"60\" onerror=\"WEBPOCIMG.defaultAlbumImg(this);\" src=\"https://cdnimg.melon.co.kr/cm2/album/images/105/34/079/10534079_20201215114038_500.jpg/melon/resize/120/quality/80/optimize\" width=\"60\"/>,\n",
       " <img alt=\"Downtown Baby - 페이지 이동\" height=\"60\" onerror=\"WEBPOCIMG.defaultAlbumImg(this);\" src=\"https://cdnimg.melon.co.kr/cm/album/images/101/17/789/10117789_500.jpg/melon/resize/120/quality/80/optimize\" width=\"60\"/>,\n",
       " <img alt=\"Merry Christmas (Deluxe Anniversary Edition) - 페이지 이동\" height=\"60\" onerror=\"WEBPOCIMG.defaultAlbumImg(this);\" src=\"https://cdnimg.melon.co.kr/cm2/album/images/000/00/829/829_500.jpg/melon/resize/120/quality/80/optimize\" width=\"60\"/>,\n",
       " <img alt=\"사랑 못해, 남들 쉽게 다 하는 거 - 페이지 이동\" height=\"60\" onerror=\"WEBPOCIMG.defaultAlbumImg(this);\" src=\"https://cdnimg.melon.co.kr/cm2/album/images/105/06/084/10506084_20201020174511_500.jpg/melon/resize/120/quality/80/optimize\" width=\"60\"/>,\n",
       " <img alt=\"호텔 델루나 OST Part.10 - 페이지 이동\" height=\"60\" onerror=\"WEBPOCIMG.defaultAlbumImg(this);\" src=\"https://cdnimg.melon.co.kr/cm2/album/images/103/17/137/10317137_500.jpg/melon/resize/120/quality/80/optimize\" width=\"60\"/>,\n",
       " <img alt=\"Santa Tell Me - 페이지 이동\" height=\"60\" onerror=\"WEBPOCIMG.defaultAlbumImg(this);\" src=\"https://cdnimg.melon.co.kr/cm/album/images/022/92/117/2292117_500.jpg/melon/resize/120/quality/80/optimize\" width=\"60\"/>,\n",
       " <img alt=\"너를 만나 - 페이지 이동\" height=\"60\" onerror=\"WEBPOCIMG.defaultAlbumImg(this);\" src=\"https://cdnimg.melon.co.kr/cm/album/images/102/17/134/10217134_500.jpg/melon/resize/120/quality/80/optimize\" width=\"60\"/>,\n",
       " <img alt=\"One-reeler / Act IV - 페이지 이동\" height=\"60\" onerror=\"WEBPOCIMG.defaultAlbumImg(this);\" src=\"https://cdnimg.melon.co.kr/cm2/album/images/105/30/160/10530160_20201207160115_500.jpg/melon/resize/120/quality/80/optimize\" width=\"60\"/>,\n",
       " <img alt=\"힘든 건 사랑이 아니다 - 페이지 이동\" height=\"60\" onerror=\"WEBPOCIMG.defaultAlbumImg(this);\" src=\"https://cdnimg.melon.co.kr/cm2/album/images/105/05/118/10505118_20201019112710_500.jpg/melon/resize/120/quality/80/optimize\" width=\"60\"/>,\n",
       " <img alt=\"나로 바꾸자 (duet with JYP) - 페이지 이동\" height=\"60\" onerror=\"WEBPOCIMG.defaultAlbumImg(this);\" src=\"https://cdnimg.melon.co.kr/cm2/album/images/105/40/785/10540785_20201230162420_500.jpg/melon/resize/120/quality/80/optimize\" width=\"60\"/>,\n",
       " <img alt=\"CEREMONIA - 페이지 이동\" height=\"60\" onerror=\"WEBPOCIMG.defaultAlbumImg(this);\" src=\"https://cdnimg.melon.co.kr/cm2/album/images/104/08/131/10408131_20200325151939_500.jpg/melon/resize/120/quality/80/optimize\" width=\"60\"/>,\n",
       " <img alt=\"쇼미더머니 9 Final - 페이지 이동\" height=\"60\" onerror=\"WEBPOCIMG.defaultAlbumImg(this);\" src=\"https://cdnimg.melon.co.kr/cm2/album/images/105/36/658/10536658_20201218161800_500.jpg/melon/resize/120/quality/80/optimize\" width=\"60\"/>,\n",
       " <img alt=\"The Project - 페이지 이동\" height=\"60\" onerror=\"WEBPOCIMG.defaultAlbumImg(this);\" src=\"https://cdnimg.melon.co.kr/cm2/album/images/105/32/045/10532045_20201210143401_500.jpg/melon/resize/120/quality/80/optimize\" width=\"60\"/>,\n",
       " <img alt=\"Happy - 페이지 이동\" height=\"60\" onerror=\"WEBPOCIMG.defaultAlbumImg(this);\" src=\"https://cdnimg.melon.co.kr/cm2/album/images/105/04/759/10504759_20201016144042_500.jpg/melon/resize/120/quality/80/optimize\" width=\"60\"/>,\n",
       " <img alt=\"슬기로운 의사생활 OST Part 11 - 페이지 이동\" height=\"60\" onerror=\"WEBPOCIMG.defaultAlbumImg(this);\" src=\"https://cdnimg.melon.co.kr/cm2/album/images/104/33/754/10433754_20200521162928_500.jpg/melon/resize/120/quality/80/optimize\" width=\"60\"/>,\n",
       " <img alt=\"Love poem - 페이지 이동\" height=\"60\" onerror=\"WEBPOCIMG.defaultAlbumImg(this);\" src=\"https://cdnimg.melon.co.kr/cm2/album/images/103/46/650/10346650_500.jpg/melon/resize/120/quality/80/optimize\" width=\"60\"/>,\n",
       " <img alt=\"너의 번호를 누르고 - 페이지 이동\" height=\"60\" onerror=\"WEBPOCIMG.defaultAlbumImg(this);\" src=\"https://cdnimg.melon.co.kr/cm2/album/images/103/59/126/10359126_500.jpg/melon/resize/120/quality/80/optimize\" width=\"60\"/>,\n",
       " <img alt=\"내일은 미스터트롯 우승자 특전곡 - 페이지 이동\" height=\"60\" onerror=\"WEBPOCIMG.defaultAlbumImg(this);\" src=\"https://cdnimg.melon.co.kr/cm2/album/images/104/12/319/10412319_20200403103006_500.jpg/melon/resize/120/quality/80/optimize\" width=\"60\"/>,\n",
       " <img alt=\"Real - 페이지 이동\" height=\"60\" onerror=\"WEBPOCIMG.defaultAlbumImg(this);\" src=\"https://cdnimg.melon.co.kr/cm/album/images/010/93/562/1093562_500.jpg/melon/resize/120/quality/80/optimize\" width=\"60\"/>,\n",
       " <img alt=\"Hello - 페이지 이동\" height=\"60\" onerror=\"WEBPOCIMG.defaultAlbumImg(this);\" src=\"https://cdnimg.melon.co.kr/cm2/album/images/105/39/679/10539679_20201228153155_500.jpg/melon/resize/120/quality/80/optimize\" width=\"60\"/>,\n",
       " <img alt=\"Future Nostalgia - 페이지 이동\" height=\"60\" onerror=\"WEBPOCIMG.defaultAlbumImg(this);\" src=\"https://cdnimg.melon.co.kr/cm2/album/images/103/45/880/10345880_20200326181909_500.jpg/melon/resize/120/quality/80/optimize\" width=\"60\"/>,\n",
       " <img alt=\"너도 아는 - 페이지 이동\" height=\"60\" onerror=\"WEBPOCIMG.defaultAlbumImg(this);\" src=\"https://cdnimg.melon.co.kr/cm2/album/images/105/08/892/10508892_20201026152541_500.jpg/melon/resize/120/quality/80/optimize\" width=\"60\"/>,\n",
       " <img alt=\"Red Moon : Ode To The Stars - 페이지 이동\" height=\"60\" onerror=\"WEBPOCIMG.defaultAlbumImg(this);\" src=\"https://cdnimg.melon.co.kr/cm2/album/images/104/86/085/10486085_20200904134735_500.jpg/melon/resize/120/quality/80/optimize\" width=\"60\"/>,\n",
       " <img alt=\"아무노래 - 페이지 이동\" height=\"60\" onerror=\"WEBPOCIMG.defaultAlbumImg(this);\" src=\"https://cdnimg.melon.co.kr/cm2/album/images/103/75/118/10375118_20200113150502_500.jpg/melon/resize/120/quality/80/optimize\" width=\"60\"/>,\n",
       " <img alt=\"Bad Boy - 페이지 이동\" height=\"60\" onerror=\"WEBPOCIMG.defaultAlbumImg(this);\" src=\"https://cdnimg.melon.co.kr/cm2/album/images/104/94/790/10494790_20200923115138_500.jpg/melon/resize/120/quality/80/optimize\" width=\"60\"/>,\n",
       " <img alt=\"12:45 (Stripped) - 페이지 이동\" height=\"60\" onerror=\"WEBPOCIMG.defaultAlbumImg(this);\" src=\"https://cdnimg.melon.co.kr/cm/album/images/102/35/362/10235362_500.jpg/melon/resize/120/quality/80/optimize\" width=\"60\"/>,\n",
       " <img alt=\"쇼미더머니 9 Episode 3 - 페이지 이동\" height=\"60\" onerror=\"WEBPOCIMG.defaultAlbumImg(this);\" src=\"https://cdnimg.melon.co.kr/cm2/album/images/105/29/161/10529161_20201204130014_500.jpg/melon/resize/120/quality/80/optimize\" width=\"60\"/>,\n",
       " <img alt=\"다시 여기 바닷가 - 페이지 이동\" height=\"60\" onerror=\"WEBPOCIMG.defaultAlbumImg(this);\" src=\"https://cdnimg.melon.co.kr/cm2/album/images/104/62/799/10462799_20200717150822_500.jpg/melon/resize/120/quality/80/optimize\" width=\"60\"/>,\n",
       " <img alt=\"I met you when I was 18. (the playlist) - 페이지 이동\" height=\"60\" onerror=\"WEBPOCIMG.defaultAlbumImg(this);\" src=\"https://cdnimg.melon.co.kr/cm/album/images/102/09/752/10209752_500.jpg/melon/resize/120/quality/80/optimize\" width=\"60\"/>,\n",
       " <img alt=\"Maniac - 페이지 이동\" height=\"60\" onerror=\"WEBPOCIMG.defaultAlbumImg(this);\" src=\"https://cdnimg.melon.co.kr/cm2/album/images/103/43/276/10343276_500.jpg/melon/resize/120/quality/80/optimize\" width=\"60\"/>,\n",
       " <img alt=\"쇼미더머니 9 Final - 페이지 이동\" height=\"60\" onerror=\"WEBPOCIMG.defaultAlbumImg(this);\" src=\"https://cdnimg.melon.co.kr/cm2/album/images/105/36/658/10536658_20201218161800_500.jpg/melon/resize/120/quality/80/optimize\" width=\"60\"/>,\n",
       " <img alt=\"MAP OF THE SOUL : 7 - 페이지 이동\" height=\"60\" onerror=\"WEBPOCIMG.defaultAlbumImg(this);\" src=\"https://cdnimg.melon.co.kr/cm2/album/images/103/77/346/10377346_20200221153622_500.jpg/melon/resize/120/quality/80/optimize\" width=\"60\"/>,\n",
       " <img alt=\"with HER - 페이지 이동\" height=\"60\" onerror=\"WEBPOCIMG.defaultAlbumImg(this);\" src=\"https://cdnimg.melon.co.kr/cm2/album/images/105/05/425/10505425_20201019154226_500.jpg/melon/resize/120/quality/80/optimize\" width=\"60\"/>,\n",
       " <img alt=\"Black Mamba - 페이지 이동\" height=\"60\" onerror=\"WEBPOCIMG.defaultAlbumImg(this);\" src=\"https://cdnimg.melon.co.kr/cm2/album/images/105/19/346/10519346_20201117151537_500.jpg/melon/resize/120/quality/80/optimize\" width=\"60\"/>,\n",
       " <img alt=\"쇼미더머니 9 Episode 1 - 페이지 이동\" height=\"60\" onerror=\"WEBPOCIMG.defaultAlbumImg(this);\" src=\"https://cdnimg.melon.co.kr/cm2/album/images/105/21/601/10521601_20201120125511_500.jpg/melon/resize/120/quality/80/optimize\" width=\"60\"/>,\n",
       " <img alt=\"For You - 페이지 이동\" height=\"60\" onerror=\"WEBPOCIMG.defaultAlbumImg(this);\" src=\"https://cdnimg.melon.co.kr/cm2/album/images/105/34/900/10534900_20201216114430_500.jpg/melon/resize/120/quality/80/optimize\" width=\"60\"/>,\n",
       " <img alt=\"12월의 어느 겨울… - 페이지 이동\" height=\"60\" onerror=\"WEBPOCIMG.defaultAlbumImg(this);\" src=\"https://cdnimg.melon.co.kr/cm2/album/images/105/38/915/10538915_20201224145649_500.jpg/melon/resize/120/quality/80/optimize\" width=\"60\"/>,\n",
       " <img alt=\"BE - 페이지 이동\" height=\"60\" onerror=\"WEBPOCIMG.defaultAlbumImg(this);\" src=\"https://cdnimg.melon.co.kr/cm2/album/images/105/21/521/10521521_20201120112220_500.jpg/melon/resize/120/quality/80/optimize\" width=\"60\"/>,\n",
       " <img alt=\"요즘 - 페이지 이동\" height=\"60\" onerror=\"WEBPOCIMG.defaultAlbumImg(this);\" src=\"https://cdnimg.melon.co.kr/cm2/album/images/105/40/303/10540303_20201229151248_500.jpg/melon/resize/120/quality/80/optimize\" width=\"60\"/>,\n",
       " <img alt=\"BE - 페이지 이동\" height=\"60\" onerror=\"WEBPOCIMG.defaultAlbumImg(this);\" src=\"https://cdnimg.melon.co.kr/cm2/album/images/105/21/521/10521521_20201120112220_500.jpg/melon/resize/120/quality/80/optimize\" width=\"60\"/>,\n",
       " <img alt=\"Your Lights (바이크 원정대 OST Part.1) - 페이지 이동\" height=\"60\" onerror=\"WEBPOCIMG.defaultAlbumImg(this);\" src=\"https://cdnimg.melon.co.kr/cm2/album/images/105/43/164/10543164_20210106143343_500.jpg/melon/resize/120/quality/80/optimize\" width=\"60\"/>]"
      ]
     },
     "execution_count": 11,
     "metadata": {},
     "output_type": "execute_result"
    }
   ],
   "source": [
    "result = soup.select('#tb_list > form > div > table > tbody > tr > td > div.wrap > a > img')\n",
    "result"
   ]
  },
  {
   "cell_type": "code",
   "execution_count": 12,
   "metadata": {},
   "outputs": [
    {
     "data": {
      "text/plain": [
       "100"
      ]
     },
     "execution_count": 12,
     "metadata": {},
     "output_type": "execute_result"
    }
   ],
   "source": [
    "len(result)"
   ]
  },
  {
   "cell_type": "code",
   "execution_count": 13,
   "metadata": {},
   "outputs": [
    {
     "data": {
      "text/plain": [
       "'https://cdnimg.melon.co.kr/cm2/album/images/105/21/601/10521601_20201120125511_500.jpg/melon/resize/120/quality/80/optimize'"
      ]
     },
     "execution_count": 13,
     "metadata": {},
     "output_type": "execute_result"
    }
   ],
   "source": [
    "result[0].get('src')"
   ]
  },
  {
   "cell_type": "code",
   "execution_count": 14,
   "metadata": {},
   "outputs": [],
   "source": [
    "for x in result:\n",
    "    image.append(x.get('src'))"
   ]
  },
  {
   "cell_type": "code",
   "execution_count": 15,
   "metadata": {},
   "outputs": [
    {
     "data": {
      "text/plain": [
       "100"
      ]
     },
     "execution_count": 15,
     "metadata": {},
     "output_type": "execute_result"
    }
   ],
   "source": [
    "len(image)"
   ]
  },
  {
   "cell_type": "code",
   "execution_count": 16,
   "metadata": {},
   "outputs": [],
   "source": [
    "title = []"
   ]
  },
  {
   "cell_type": "code",
   "execution_count": 17,
   "metadata": {},
   "outputs": [],
   "source": [
    "for i in soup.select('div.ellipsis.rank01 > span > a'):\n",
    "    title.append(i.getText())"
   ]
  },
  {
   "cell_type": "code",
   "execution_count": 18,
   "metadata": {},
   "outputs": [
    {
     "data": {
      "text/plain": [
       "100"
      ]
     },
     "execution_count": 18,
     "metadata": {},
     "output_type": "execute_result"
    }
   ],
   "source": [
    "len(title)"
   ]
  },
  {
   "cell_type": "code",
   "execution_count": 19,
   "metadata": {},
   "outputs": [],
   "source": [
    "like = [113791,63280,65487,153449,49420,295179,50405,180655,107605,136134,\n",
    "        81530,100350,108155,114308,66528,86842,52830,221633,100454,240560,\n",
    "        141023,248863,88177,249893,87203,179563,25275,66710,14392,329432,\n",
    "        56680,149563,294566,234462,382200,57394,157584,50665,205481,192918,\n",
    "        59484,83117,336086,76165,83791,88709,29448,169618,14392,20319,\n",
    "        93814,216193,35207,5826,67576,37945,105837,23880,105113,8505,\n",
    "        51297,129283,258112,4603,13499,12460,82935,485883,161133,194129,\n",
    "        92868,43812,230375,155658,42314,121823,26357,39039,263255,48300,\n",
    "        74332,8961,139368,16518,166084,54972,59448,137149,43583,256299,\n",
    "        51826,37107,130846,130044,98090,30030,130658,127616,108275,132023]"
   ]
  },
  {
   "cell_type": "code",
   "execution_count": 20,
   "metadata": {},
   "outputs": [
    {
     "data": {
      "text/plain": [
       "100"
      ]
     },
     "execution_count": 20,
     "metadata": {},
     "output_type": "execute_result"
    }
   ],
   "source": [
    "len(like)"
   ]
  },
  {
   "cell_type": "code",
   "execution_count": 21,
   "metadata": {},
   "outputs": [],
   "source": [
    "singer = []"
   ]
  },
  {
   "cell_type": "code",
   "execution_count": 22,
   "metadata": {},
   "outputs": [],
   "source": [
    "for i in soup.select('td >div > div > div.ellipsis.rank02 > span > a'):\n",
    "    singer.append(i.text)"
   ]
  },
  {
   "cell_type": "code",
   "execution_count": 23,
   "metadata": {},
   "outputs": [
    {
     "data": {
      "text/plain": [
       "113"
      ]
     },
     "execution_count": 23,
     "metadata": {},
     "output_type": "execute_result"
    }
   ],
   "source": [
    "len(singer)"
   ]
  },
  {
   "cell_type": "code",
   "execution_count": 24,
   "metadata": {},
   "outputs": [
    {
     "data": {
      "text/plain": [
       "['미란이 (Mirani)',\n",
       " '먼치맨',\n",
       " 'Khundi Panda',\n",
       " '머쉬베놈 (MUSHVENOM)',\n",
       " '경서',\n",
       " '방탄소년단',\n",
       " '장범준',\n",
       " '릴보이 (lIlBOI)',\n",
       " '임창정',\n",
       " '산들',\n",
       " 'BLACKPINK',\n",
       " '방탄소년단',\n",
       " '스탠딩 에그',\n",
       " '릴보이 (lIlBOI)',\n",
       " 'Jawsh 685',\n",
       " 'Jason Derulo',\n",
       " '방탄소년단',\n",
       " '규현 (KYUHYUN)',\n",
       " '적재',\n",
       " 'AKMU (악동뮤지션)',\n",
       " '미란이 (Mirani)',\n",
       " '아이유',\n",
       " '릴보이 (lIlBOI)',\n",
       " '벤',\n",
       " '박진영',\n",
       " '릴보이 (lIlBOI)',\n",
       " '원슈타인',\n",
       " 'Chillin Homie',\n",
       " '스카이민혁 (Skyminhyuk)',\n",
       " '노을',\n",
       " '장범준',\n",
       " '오반 (OVAN)',\n",
       " '폴킴',\n",
       " 'BLACKPINK',\n",
       " 'Khundi Panda',\n",
       " '조정석',\n",
       " '마마무 (Mamamoo)',\n",
       " '아이유',\n",
       " '창모 (CHANGMO)',\n",
       " '순순희',\n",
       " '오마이걸 (OH MY GIRL)',\n",
       " '경서예지',\n",
       " '환불원정대',\n",
       " '아이유',\n",
       " '스윙스',\n",
       " '마크툽 (MAKTUB)',\n",
       " '방탄소년단',\n",
       " 'TWICE (트와이스)',\n",
       " '백지영',\n",
       " '장덕철',\n",
       " 'Maroon 5',\n",
       " '이예준',\n",
       " '화사 (Hwa Sa)',\n",
       " '이승기',\n",
       " '가호 (Gaho)',\n",
       " '신예영',\n",
       " '전상근',\n",
       " '이하이',\n",
       " '방탄소년단',\n",
       " 'Sia',\n",
       " '머쉬베놈 (MUSHVENOM)',\n",
       " '제시 (Jessi)',\n",
       " '황인욱',\n",
       " '잔나비',\n",
       " '오마이걸 (OH MY GIRL)',\n",
       " 'Anne-Marie',\n",
       " 'Tones And I',\n",
       " '태연 (TAEYEON)',\n",
       " '블루 (BLOO)',\n",
       " 'Mariah Carey',\n",
       " '먼데이 키즈 (Monday Kiz)',\n",
       " '폴킴',\n",
       " 'Ariana Grande',\n",
       " '폴킴',\n",
       " 'IZ*ONE (아이즈원)',\n",
       " '임창정',\n",
       " '비',\n",
       " '엠씨더맥스 (M.C the MAX)',\n",
       " '머쉬베놈 (MUSHVENOM)',\n",
       " '이승기',\n",
       " '송하예',\n",
       " '전미도',\n",
       " '아이유',\n",
       " '#안녕',\n",
       " '임영웅',\n",
       " '아이유',\n",
       " '허각',\n",
       " 'Dua Lipa',\n",
       " '폴킴',\n",
       " '마크툽 (MAKTUB)',\n",
       " '이라온',\n",
       " '지코 (ZICO)',\n",
       " '청하',\n",
       " 'Christopher',\n",
       " 'Etham',\n",
       " '원슈타인',\n",
       " '싹쓰리 (유두래곤, 린다G, 비룡)',\n",
       " 'Lauv',\n",
       " 'Conan Gray',\n",
       " '머쉬베놈 (MUSHVENOM)',\n",
       " '방탄소년단',\n",
       " 'Crush',\n",
       " 'aespa',\n",
       " '스윙스',\n",
       " '맥대디 (Mckdaddy)',\n",
       " 'Khakii (카키)',\n",
       " '래원 (Layone)',\n",
       " '이하이',\n",
       " '윤도 (YoonDo)',\n",
       " '방탄소년단',\n",
       " '양다일',\n",
       " '방탄소년단',\n",
       " '이수 (엠씨더맥스)']"
      ]
     },
     "execution_count": 24,
     "metadata": {},
     "output_type": "execute_result"
    }
   ],
   "source": [
    "singer"
   ]
  },
  {
   "cell_type": "code",
   "execution_count": 25,
   "metadata": {},
   "outputs": [],
   "source": [
    "singer.remove('폴킴')\n",
    "singer.remove('미란이 (Mirani)')\n",
    "singer.remove('아이유')\n",
    "singer.remove('방탄소년단')\n",
    "singer.remove('마크툽 (MAKTUB)')\n",
    "singer.remove('머쉬베놈 (MUSHVENOM)')\n",
    "singer.remove('릴보이 (lIlBOI)')\n",
    "singer.remove('황인욱')"
   ]
  },
  {
   "cell_type": "code",
   "execution_count": 26,
   "metadata": {},
   "outputs": [
    {
     "data": {
      "text/plain": [
       "105"
      ]
     },
     "execution_count": 26,
     "metadata": {},
     "output_type": "execute_result"
    }
   ],
   "source": [
    "len(singer)"
   ]
  },
  {
   "cell_type": "code",
   "execution_count": 27,
   "metadata": {},
   "outputs": [],
   "source": [
    "singer.remove('Dua Lipa')"
   ]
  },
  {
   "cell_type": "code",
   "execution_count": 28,
   "metadata": {},
   "outputs": [
    {
     "data": {
      "text/plain": [
       "104"
      ]
     },
     "execution_count": 28,
     "metadata": {},
     "output_type": "execute_result"
    }
   ],
   "source": [
    "len(singer)"
   ]
  },
  {
   "cell_type": "code",
   "execution_count": 29,
   "metadata": {},
   "outputs": [],
   "source": [
    "singer.remove('이승기')\n",
    "singer.remove('송하예')\n",
    "singer.remove('아이유')\n",
    "singer.remove('전미도')\n",
    "\n"
   ]
  },
  {
   "cell_type": "code",
   "execution_count": 30,
   "metadata": {},
   "outputs": [
    {
     "data": {
      "text/plain": [
       "100"
      ]
     },
     "execution_count": 30,
     "metadata": {},
     "output_type": "execute_result"
    }
   ],
   "source": [
    "len(singer)"
   ]
  },
  {
   "cell_type": "code",
   "execution_count": 31,
   "metadata": {},
   "outputs": [
    {
     "data": {
      "text/plain": [
       "100"
      ]
     },
     "execution_count": 31,
     "metadata": {},
     "output_type": "execute_result"
    }
   ],
   "source": [
    "len(singer)"
   ]
  },
  {
   "cell_type": "code",
   "execution_count": 32,
   "metadata": {},
   "outputs": [],
   "source": [
    "setSinger = set(singer)"
   ]
  },
  {
   "cell_type": "code",
   "execution_count": 33,
   "metadata": {},
   "outputs": [
    {
     "data": {
      "text/plain": [
       "78"
      ]
     },
     "execution_count": 33,
     "metadata": {},
     "output_type": "execute_result"
    }
   ],
   "source": [
    "len(setSinger)"
   ]
  },
  {
   "cell_type": "code",
   "execution_count": 34,
   "metadata": {},
   "outputs": [
    {
     "data": {
      "text/plain": [
       "{'#안녕',\n",
       " 'AKMU (악동뮤지션)',\n",
       " 'Anne-Marie',\n",
       " 'Ariana Grande',\n",
       " 'BLACKPINK',\n",
       " 'Chillin Homie',\n",
       " 'Christopher',\n",
       " 'Conan Gray',\n",
       " 'Crush',\n",
       " 'Etham',\n",
       " 'IZ*ONE (아이즈원)',\n",
       " 'Jason Derulo',\n",
       " 'Jawsh 685',\n",
       " 'Khakii (카키)',\n",
       " 'Khundi Panda',\n",
       " 'Lauv',\n",
       " 'Mariah Carey',\n",
       " 'Maroon 5',\n",
       " 'Sia',\n",
       " 'TWICE (트와이스)',\n",
       " 'Tones And I',\n",
       " 'aespa',\n",
       " '가호 (Gaho)',\n",
       " '경서',\n",
       " '경서예지',\n",
       " '규현 (KYUHYUN)',\n",
       " '노을',\n",
       " '래원 (Layone)',\n",
       " '릴보이 (lIlBOI)',\n",
       " '마마무 (Mamamoo)',\n",
       " '마크툽 (MAKTUB)',\n",
       " '맥대디 (Mckdaddy)',\n",
       " '머쉬베놈 (MUSHVENOM)',\n",
       " '먼데이 키즈 (Monday Kiz)',\n",
       " '먼치맨',\n",
       " '미란이 (Mirani)',\n",
       " '박진영',\n",
       " '방탄소년단',\n",
       " '백지영',\n",
       " '벤',\n",
       " '블루 (BLOO)',\n",
       " '비',\n",
       " '산들',\n",
       " '순순희',\n",
       " '스윙스',\n",
       " '스카이민혁 (Skyminhyuk)',\n",
       " '스탠딩 에그',\n",
       " '신예영',\n",
       " '싹쓰리 (유두래곤, 린다G, 비룡)',\n",
       " '아이유',\n",
       " '양다일',\n",
       " '엠씨더맥스 (M.C the MAX)',\n",
       " '오마이걸 (OH MY GIRL)',\n",
       " '오반 (OVAN)',\n",
       " '원슈타인',\n",
       " '윤도 (YoonDo)',\n",
       " '이라온',\n",
       " '이수 (엠씨더맥스)',\n",
       " '이승기',\n",
       " '이예준',\n",
       " '이하이',\n",
       " '임영웅',\n",
       " '임창정',\n",
       " '잔나비',\n",
       " '장덕철',\n",
       " '장범준',\n",
       " '적재',\n",
       " '전상근',\n",
       " '제시 (Jessi)',\n",
       " '조정석',\n",
       " '지코 (ZICO)',\n",
       " '창모 (CHANGMO)',\n",
       " '청하',\n",
       " '태연 (TAEYEON)',\n",
       " '폴킴',\n",
       " '허각',\n",
       " '화사 (Hwa Sa)',\n",
       " '환불원정대'}"
      ]
     },
     "execution_count": 34,
     "metadata": {},
     "output_type": "execute_result"
    }
   ],
   "source": [
    "setSinger"
   ]
  },
  {
   "cell_type": "code",
   "execution_count": 35,
   "metadata": {},
   "outputs": [],
   "source": [
    "#mongoDB 에 넣기 \n",
    "imsi = [] #[{},{},{}]이런형태로 만들어줘야함"
   ]
  },
  {
   "cell_type": "code",
   "execution_count": 36,
   "metadata": {},
   "outputs": [],
   "source": [
    "for i in range(100):\n",
    "    melon = {}#dictionary\n",
    "    melon.update(title = title[i]) #{'title':'mysongtitle'}\n",
    "    melon.update(singer = singer[i]) #{'title':'mysongtitle','singer':'singername'}\n",
    "    melon.update(like = like[i])\n",
    "    melon.update(image = image[i])\n",
    "    imsi.append(melon)"
   ]
  },
  {
   "cell_type": "code",
   "execution_count": 37,
   "metadata": {},
   "outputs": [
    {
     "data": {
      "text/plain": [
       "100"
      ]
     },
     "execution_count": 37,
     "metadata": {},
     "output_type": "execute_result"
    }
   ],
   "source": [
    "len(imsi)"
   ]
  },
  {
   "cell_type": "code",
   "execution_count": 38,
   "metadata": {},
   "outputs": [
    {
     "data": {
      "text/plain": [
       "[{'title': 'VVS (Feat. JUSTHIS) (Prod. GroovyRoom)',\n",
       "  'singer': '먼치맨',\n",
       "  'like': 113791,\n",
       "  'image': 'https://cdnimg.melon.co.kr/cm2/album/images/105/21/601/10521601_20201120125511_500.jpg/melon/resize/120/quality/80/optimize'},\n",
       " {'title': '밤하늘의 별을(2020)',\n",
       "  'singer': 'Khundi Panda',\n",
       "  'like': 63280,\n",
       "  'image': 'https://cdnimg.melon.co.kr/cm2/album/images/105/18/234/10518234_20201113150500_500.jpg/melon/resize/120/quality/80/optimize'},\n",
       " {'title': 'Dynamite',\n",
       "  'singer': '경서',\n",
       "  'like': 65487,\n",
       "  'image': 'https://cdnimg.melon.co.kr/cm2/album/images/104/79/150/10479150_20200918102847_500.jpg/melon/resize/120/quality/80/optimize'},\n",
       " {'title': '잠이 오질 않네요',\n",
       "  'singer': '장범준',\n",
       "  'like': 153449,\n",
       "  'image': 'https://cdnimg.melon.co.kr/cm2/album/images/105/08/266/10508266_20201023171236_500.jpg/melon/resize/120/quality/80/optimize'},\n",
       " {'title': '내일이 오면 (Feat. 기리보이, BIG Naughty (서동현))',\n",
       "  'singer': '임창정',\n",
       "  'like': 49420,\n",
       "  'image': 'https://cdnimg.melon.co.kr/cm2/album/images/105/29/161/10529161_20201204130014_500.jpg/melon/resize/120/quality/80/optimize'},\n",
       " {'title': '힘든 건 사랑이 아니다',\n",
       "  'singer': '산들',\n",
       "  'like': 295179,\n",
       "  'image': 'https://cdnimg.melon.co.kr/cm2/album/images/105/05/118/10505118_20201019112710_500.jpg/melon/resize/120/quality/80/optimize'},\n",
       " {'title': '취기를 빌려 (취향저격 그녀 X 산들)',\n",
       "  'singer': 'BLACKPINK',\n",
       "  'like': 50405,\n",
       "  'image': 'https://cdnimg.melon.co.kr/cm2/album/images/104/63/600/10463600_20200720152905_500.jpg/melon/resize/120/quality/80/optimize'},\n",
       " {'title': 'Lovesick Girls',\n",
       "  'singer': '방탄소년단',\n",
       "  'like': 180655,\n",
       "  'image': 'https://cdnimg.melon.co.kr/cm2/album/images/104/98/032/10498032_20200929122954_500.jpg/melon/resize/120/quality/80/optimize'},\n",
       " {'title': 'Life Goes On',\n",
       "  'singer': '스탠딩 에그',\n",
       "  'like': 107605,\n",
       "  'image': 'https://cdnimg.melon.co.kr/cm2/album/images/105/21/521/10521521_20201120112220_500.jpg/melon/resize/120/quality/80/optimize'},\n",
       " {'title': '오래된 노래',\n",
       "  'singer': '릴보이 (lIlBOI)',\n",
       "  'like': 136134,\n",
       "  'image': 'https://cdnimg.melon.co.kr/cm/album/images/021/48/596/2148596_500.jpg/melon/resize/120/quality/80/optimize'},\n",
       " {'title': 'CREDIT (Feat. 염따, 기리보이, Zion.T)',\n",
       "  'singer': 'Jawsh 685',\n",
       "  'like': 81530,\n",
       "  'image': 'https://cdnimg.melon.co.kr/cm2/album/images/105/36/658/10536658_20201218161800_500.jpg/melon/resize/120/quality/80/optimize'},\n",
       " {'title': 'Savage Love (Laxed - Siren Beat) (BTS Remix)',\n",
       "  'singer': 'Jason Derulo',\n",
       "  'like': 100350,\n",
       "  'image': 'https://cdnimg.melon.co.kr/cm2/album/images/104/98/123/10498123_20201002094556_500.jpg/melon/resize/120/quality/80/optimize'},\n",
       " {'title': '내 마음이 움찔했던 순간 (취향저격 그녀 X 규현)',\n",
       "  'singer': '방탄소년단',\n",
       "  'like': 108155,\n",
       "  'image': 'https://cdnimg.melon.co.kr/cm2/album/images/104/78/925/10478925_20200820171048_500.jpg/melon/resize/120/quality/80/optimize'},\n",
       " {'title': '나랑 같이 걸을래 (바른연애 길잡이 X 적재)',\n",
       "  'singer': '규현 (KYUHYUN)',\n",
       "  'like': 114308,\n",
       "  'image': 'https://cdnimg.melon.co.kr/cm2/album/images/105/07/546/10507546_20201022162417_500.jpg/melon/resize/120/quality/80/optimize'},\n",
       " {'title': '어떻게 이별까지 사랑하겠어, 널 사랑하는 거지',\n",
       "  'singer': '적재',\n",
       "  'like': 66528,\n",
       "  'image': 'https://cdnimg.melon.co.kr/cm2/album/images/103/31/947/10331947_500.jpg/melon/resize/120/quality/80/optimize'},\n",
       " {'title': 'Achoo (Feat. pH-1, HAON) (Prod. GroovyRoom)',\n",
       "  'singer': 'AKMU (악동뮤지션)',\n",
       "  'like': 86842,\n",
       "  'image': 'https://cdnimg.melon.co.kr/cm2/album/images/105/29/161/10529161_20201204130014_500.jpg/melon/resize/120/quality/80/optimize'},\n",
       " {'title': '에잇(Prod.&Feat. SUGA of BTS)',\n",
       "  'singer': '미란이 (Mirani)',\n",
       "  'like': 52830,\n",
       "  'image': 'https://cdnimg.melon.co.kr/cm2/album/images/104/26/648/10426648_20200506153340_500.jpg/melon/resize/120/quality/80/optimize'},\n",
       " {'title': 'ON AIR (Feat. 로꼬, 박재범 & GRAY)',\n",
       "  'singer': '릴보이 (lIlBOI)',\n",
       "  'like': 221633,\n",
       "  'image': 'https://cdnimg.melon.co.kr/cm2/album/images/105/36/658/10536658_20201218161800_500.jpg/melon/resize/120/quality/80/optimize'},\n",
       " {'title': '혼술하고 싶은 밤',\n",
       "  'singer': '벤',\n",
       "  'like': 100454,\n",
       "  'image': 'https://cdnimg.melon.co.kr/cm2/album/images/105/27/241/10527241_20201202101208_500.jpg/melon/resize/120/quality/80/optimize'},\n",
       " {'title': 'When We Disco (Duet with 선미)',\n",
       "  'singer': '박진영',\n",
       "  'like': 240560,\n",
       "  'image': 'https://cdnimg.melon.co.kr/cm2/album/images/104/75/061/10475061_20200812120927_500.jpg/melon/resize/120/quality/80/optimize'},\n",
       " {'title': 'Freak (Prod. Slom)',\n",
       "  'singer': '릴보이 (lIlBOI)',\n",
       "  'like': 141023,\n",
       "  'image': 'https://cdnimg.melon.co.kr/cm2/album/images/105/21/601/10521601_20201120125511_500.jpg/melon/resize/120/quality/80/optimize'},\n",
       " {'title': '늦은 밤 너의 집 앞 골목길에서',\n",
       "  'singer': '원슈타인',\n",
       "  'like': 248863,\n",
       "  'image': 'https://cdnimg.melon.co.kr/cm2/album/images/103/48/811/10348811_500.jpg/melon/resize/120/quality/80/optimize'},\n",
       " {'title': '흔들리는 꽃들 속에서 네 샴푸향이 느껴진거야',\n",
       "  'singer': 'Chillin Homie',\n",
       "  'like': 88177,\n",
       "  'image': 'https://cdnimg.melon.co.kr/cm2/album/images/103/20/500/10320500_500.jpg/melon/resize/120/quality/80/optimize'},\n",
       " {'title': '어떻게 지내 (Prod. By VAN.C)',\n",
       "  'singer': '스카이민혁 (Skyminhyuk)',\n",
       "  'like': 249893,\n",
       "  'image': 'https://cdnimg.melon.co.kr/cm2/album/images/103/99/190/10399190_20200305151138_500.jpg/melon/resize/120/quality/80/optimize'},\n",
       " {'title': '모든 날, 모든 순간 (Every day, Every Moment)',\n",
       "  'singer': '노을',\n",
       "  'like': 87203,\n",
       "  'image': 'https://cdnimg.melon.co.kr/cm/album/images/101/49/492/10149492_500.jpg/melon/resize/120/quality/80/optimize'},\n",
       " {'title': 'How You Like That',\n",
       "  'singer': '장범준',\n",
       "  'like': 179563,\n",
       "  'image': 'https://cdnimg.melon.co.kr/cm2/album/images/104/51/566/10451566_20200626114914_500.jpg/melon/resize/120/quality/80/optimize'},\n",
       " {'title': '뿌리 (Feat. JUSTHIS) (Prod. GroovyRoom)',\n",
       "  'singer': '오반 (OVAN)',\n",
       "  'like': 25275,\n",
       "  'image': 'https://cdnimg.melon.co.kr/cm2/album/images/105/29/161/10529161_20201204130014_500.jpg/melon/resize/120/quality/80/optimize'},\n",
       " {'title': '아로하',\n",
       "  'singer': 'BLACKPINK',\n",
       "  'like': 66710,\n",
       "  'image': 'https://cdnimg.melon.co.kr/cm2/album/images/104/09/054/10409054_20200326163459_500.jpg/melon/resize/120/quality/80/optimize'},\n",
       " {'title': '딩가딩가 (Dingga)',\n",
       "  'singer': 'Khundi Panda',\n",
       "  'like': 14392,\n",
       "  'image': 'https://cdnimg.melon.co.kr/cm2/album/images/105/05/830/10505830_20201020115450_500.jpg/melon/resize/120/quality/80/optimize'},\n",
       " {'title': 'Blueming',\n",
       "  'singer': '조정석',\n",
       "  'like': 329432,\n",
       "  'image': 'https://cdnimg.melon.co.kr/cm2/album/images/103/46/650/10346650_500.jpg/melon/resize/120/quality/80/optimize'},\n",
       " {'title': 'METEOR',\n",
       "  'singer': '마마무 (Mamamoo)',\n",
       "  'like': 56680,\n",
       "  'image': 'https://cdnimg.melon.co.kr/cm2/album/images/103/59/162/10359162_500.jpg/melon/resize/120/quality/80/optimize'},\n",
       " {'title': '서면역에서',\n",
       "  'singer': '창모 (CHANGMO)',\n",
       "  'like': 149563,\n",
       "  'image': 'https://cdnimg.melon.co.kr/cm2/album/images/104/25/277/10425277_20200504103213_500.jpg/melon/resize/120/quality/80/optimize'},\n",
       " {'title': 'Dolphin',\n",
       "  'singer': '순순희',\n",
       "  'like': 294566,\n",
       "  'image': 'https://cdnimg.melon.co.kr/cm2/album/images/104/23/289/10423289_20200427153909_500.jpg/melon/resize/120/quality/80/optimize'},\n",
       " {'title': '사실 나는 (Feat.전건호)',\n",
       "  'singer': '오마이걸 (OH MY GIRL)',\n",
       "  'like': 234462,\n",
       "  'image': 'https://cdnimg.melon.co.kr/cm2/album/images/104/16/034/10416034_20200410161209_500.jpg/melon/resize/120/quality/80/optimize'},\n",
       " {'title': \"DON'T TOUCH ME\",\n",
       "  'singer': '경서예지',\n",
       "  'like': 382200,\n",
       "  'image': 'https://cdnimg.melon.co.kr/cm2/album/images/105/01/191/10501191_20201008173829_500.jpg/melon/resize/120/quality/80/optimize'},\n",
       " {'title': '마음을 드려요',\n",
       "  'singer': '환불원정대',\n",
       "  'like': 57394,\n",
       "  'image': 'https://cdnimg.melon.co.kr/cm2/album/images/103/88/744/10388744_20200214175740_500.jpg/melon/resize/120/quality/80/optimize'},\n",
       " {'title': '악역 (Feat. 이하이 & 사이먼 도미닉) (Prod. 코드 쿤스트)',\n",
       "  'singer': '아이유',\n",
       "  'like': 157584,\n",
       "  'image': 'https://cdnimg.melon.co.kr/cm2/album/images/105/32/919/10532919_20201211141451_500.jpg/melon/resize/120/quality/80/optimize'},\n",
       " {'title': '오늘도 빛나는 너에게 (To You My Light) (Feat.이라온)',\n",
       "  'singer': '스윙스',\n",
       "  'like': 50665,\n",
       "  'image': 'https://cdnimg.melon.co.kr/cm/album/images/102/94/603/10294603_500.jpg/melon/resize/120/quality/80/optimize'},\n",
       " {'title': '작은 것들을 위한 시 (Boy With Luv) (Feat. Halsey)',\n",
       "  'singer': '방탄소년단',\n",
       "  'like': 205481,\n",
       "  'image': 'https://cdnimg.melon.co.kr/cm/album/images/102/73/641/10273641_500.jpg/melon/resize/120/quality/80/optimize'},\n",
       " {'title': 'I CAN’T STOP ME',\n",
       "  'singer': 'TWICE (트와이스)',\n",
       "  'like': 192918,\n",
       "  'image': 'https://cdnimg.melon.co.kr/cm2/album/images/105/08/930/10508930_20201026160407_500.jpg/melon/resize/120/quality/80/optimize'},\n",
       " {'title': '거짓말이라도 해서 널 보고싶어',\n",
       "  'singer': '백지영',\n",
       "  'like': 59484,\n",
       "  'image': 'https://cdnimg.melon.co.kr/cm2/album/images/104/60/544/10460544_20200714151651_500.jpg/melon/resize/120/quality/80/optimize'},\n",
       " {'title': '겨울잠',\n",
       "  'singer': '장덕철',\n",
       "  'like': 83117,\n",
       "  'image': 'https://cdnimg.melon.co.kr/cm2/album/images/105/44/166/10544166_20210107153435_500.jpg/melon/resize/120/quality/80/optimize'},\n",
       " {'title': 'Memories',\n",
       "  'singer': 'Maroon 5',\n",
       "  'like': 336086,\n",
       "  'image': 'https://cdnimg.melon.co.kr/cm2/album/images/103/30/593/10330593_500.jpg/melon/resize/120/quality/80/optimize'},\n",
       " {'title': '그날에 나는 맘이 편했을까',\n",
       "  'singer': '이예준',\n",
       "  'like': 76165,\n",
       "  'image': 'https://cdnimg.melon.co.kr/cm2/album/images/105/27/955/10527955_20201202190217_500.jpg/melon/resize/120/quality/80/optimize'},\n",
       " {'title': '마리아 (Maria)',\n",
       "  'singer': '화사 (Hwa Sa)',\n",
       "  'like': 83791,\n",
       "  'image': 'https://cdnimg.melon.co.kr/cm2/album/images/104/52/351/10452351_20200629152036_500.jpg/melon/resize/120/quality/80/optimize'},\n",
       " {'title': '뻔한남자',\n",
       "  'singer': '가호 (Gaho)',\n",
       "  'like': 88709,\n",
       "  'image': 'https://cdnimg.melon.co.kr/cm2/album/images/105/18/190/10518190_20201113143007_500.jpg/melon/resize/120/quality/80/optimize'},\n",
       " {'title': '시작',\n",
       "  'singer': '신예영',\n",
       "  'like': 29448,\n",
       "  'image': 'https://cdnimg.melon.co.kr/cm2/album/images/103/81/712/10381712_20200131110358_500.jpg/melon/resize/120/quality/80/optimize'},\n",
       " {'title': '우리 왜 헤어져야 해',\n",
       "  'singer': '전상근',\n",
       "  'like': 169618,\n",
       "  'image': 'https://cdnimg.melon.co.kr/cm2/album/images/103/53/881/10353881_500.jpg/melon/resize/120/quality/80/optimize'},\n",
       " {'title': '사랑은 지날수록 더욱 선명하게 남아',\n",
       "  'singer': '이하이',\n",
       "  'like': 14392,\n",
       "  'image': 'https://cdnimg.melon.co.kr/cm2/album/images/104/40/381/10440381_20200605161232_500.jpg/melon/resize/120/quality/80/optimize'},\n",
       " {'title': '홀로',\n",
       "  'singer': '방탄소년단',\n",
       "  'like': 20319,\n",
       "  'image': 'https://cdnimg.melon.co.kr/cm2/album/images/104/65/994/10465994_20200723160043_500.jpg/melon/resize/120/quality/80/optimize'},\n",
       " {'title': '봄날',\n",
       "  'singer': 'Sia',\n",
       "  'like': 93814,\n",
       "  'image': 'https://cdnimg.melon.co.kr/cm/album/images/100/37/969/10037969_500.jpg/melon/resize/120/quality/80/optimize'},\n",
       " {'title': 'Snowman',\n",
       "  'singer': '머쉬베놈 (MUSHVENOM)',\n",
       "  'like': 216193,\n",
       "  'image': 'https://cdnimg.melon.co.kr/cm/album/images/101/07/511/10107511_500.jpg/melon/resize/120/quality/80/optimize'},\n",
       " {'title': '고독하구만 (Feat. 수퍼비) (Prod. GroovyRoom)',\n",
       "  'singer': '제시 (Jessi)',\n",
       "  'like': 35207,\n",
       "  'image': 'https://cdnimg.melon.co.kr/cm2/album/images/105/32/919/10532919_20201211141451_500.jpg/melon/resize/120/quality/80/optimize'},\n",
       " {'title': '눈누난나 (NUNU NANA)',\n",
       "  'singer': '잔나비',\n",
       "  'like': 5826,\n",
       "  'image': 'https://cdnimg.melon.co.kr/cm2/album/images/104/69/416/10469416_20200730151034_500.jpg/melon/resize/120/quality/80/optimize'},\n",
       " {'title': '한잔이면 지워질까',\n",
       "  'singer': '오마이걸 (OH MY GIRL)',\n",
       "  'like': 67576,\n",
       "  'image': 'https://cdnimg.melon.co.kr/cm2/album/images/105/33/731/10533731_20201214154551_500.jpg/melon/resize/120/quality/80/optimize'},\n",
       " {'title': '가을밤에 든 생각',\n",
       "  'singer': 'Anne-Marie',\n",
       "  'like': 37945,\n",
       "  'image': 'https://cdnimg.melon.co.kr/cm2/album/images/105/14/407/10514407_20201105153840_500.jpg/melon/resize/120/quality/80/optimize'},\n",
       " {'title': '살짝 설렜어 (Nonstop)',\n",
       "  'singer': 'Tones And I',\n",
       "  'like': 105837,\n",
       "  'image': 'https://cdnimg.melon.co.kr/cm2/album/images/104/23/289/10423289_20200427153909_500.jpg/melon/resize/120/quality/80/optimize'},\n",
       " {'title': '2002',\n",
       "  'singer': '태연 (TAEYEON)',\n",
       "  'like': 23880,\n",
       "  'image': 'https://cdnimg.melon.co.kr/cm/album/images/101/37/250/10137250_500.jpg/melon/resize/120/quality/80/optimize'},\n",
       " {'title': 'Dance Monkey',\n",
       "  'singer': '블루 (BLOO)',\n",
       "  'like': 105113,\n",
       "  'image': 'https://cdnimg.melon.co.kr/cm2/album/images/103/16/394/10316394_500.jpg/melon/resize/120/quality/80/optimize'},\n",
       " {'title': 'What Do I Call You',\n",
       "  'singer': 'Mariah Carey',\n",
       "  'like': 8505,\n",
       "  'image': 'https://cdnimg.melon.co.kr/cm2/album/images/105/34/079/10534079_20201215114038_500.jpg/melon/resize/120/quality/80/optimize'},\n",
       " {'title': 'Downtown Baby',\n",
       "  'singer': '먼데이 키즈 (Monday Kiz)',\n",
       "  'like': 51297,\n",
       "  'image': 'https://cdnimg.melon.co.kr/cm/album/images/101/17/789/10117789_500.jpg/melon/resize/120/quality/80/optimize'},\n",
       " {'title': 'All I Want For Christmas Is You',\n",
       "  'singer': '폴킴',\n",
       "  'like': 129283,\n",
       "  'image': 'https://cdnimg.melon.co.kr/cm2/album/images/000/00/829/829_500.jpg/melon/resize/120/quality/80/optimize'},\n",
       " {'title': '사랑 못해, 남들 쉽게 다 하는 거',\n",
       "  'singer': 'Ariana Grande',\n",
       "  'like': 258112,\n",
       "  'image': 'https://cdnimg.melon.co.kr/cm2/album/images/105/06/084/10506084_20201020174511_500.jpg/melon/resize/120/quality/80/optimize'},\n",
       " {'title': '안녕',\n",
       "  'singer': '폴킴',\n",
       "  'like': 4603,\n",
       "  'image': 'https://cdnimg.melon.co.kr/cm2/album/images/103/17/137/10317137_500.jpg/melon/resize/120/quality/80/optimize'},\n",
       " {'title': 'Santa Tell Me',\n",
       "  'singer': 'IZ*ONE (아이즈원)',\n",
       "  'like': 13499,\n",
       "  'image': 'https://cdnimg.melon.co.kr/cm/album/images/022/92/117/2292117_500.jpg/melon/resize/120/quality/80/optimize'},\n",
       " {'title': '너를 만나',\n",
       "  'singer': '임창정',\n",
       "  'like': 12460,\n",
       "  'image': 'https://cdnimg.melon.co.kr/cm/album/images/102/17/134/10217134_500.jpg/melon/resize/120/quality/80/optimize'},\n",
       " {'title': 'Panorama',\n",
       "  'singer': '비',\n",
       "  'like': 82935,\n",
       "  'image': 'https://cdnimg.melon.co.kr/cm2/album/images/105/30/160/10530160_20201207160115_500.jpg/melon/resize/120/quality/80/optimize'},\n",
       " {'title': '소확행',\n",
       "  'singer': '엠씨더맥스 (M.C the MAX)',\n",
       "  'like': 485883,\n",
       "  'image': 'https://cdnimg.melon.co.kr/cm2/album/images/105/05/118/10505118_20201019112710_500.jpg/melon/resize/120/quality/80/optimize'},\n",
       " {'title': '나로 바꾸자 (duet with JYP)',\n",
       "  'singer': '머쉬베놈 (MUSHVENOM)',\n",
       "  'like': 161133,\n",
       "  'image': 'https://cdnimg.melon.co.kr/cm2/album/images/105/40/785/10540785_20201230162420_500.jpg/melon/resize/120/quality/80/optimize'},\n",
       " {'title': '처음처럼',\n",
       "  'singer': '이승기',\n",
       "  'like': 194129,\n",
       "  'image': 'https://cdnimg.melon.co.kr/cm2/album/images/104/08/131/10408131_20200325151939_500.jpg/melon/resize/120/quality/80/optimize'},\n",
       " {'title': '여백의 미 (Feat. Jessi, JUSTHIS) (Prod. GroovyRoom)',\n",
       "  'singer': '아이유',\n",
       "  'like': 92868,\n",
       "  'image': 'https://cdnimg.melon.co.kr/cm2/album/images/105/36/658/10536658_20201218161800_500.jpg/melon/resize/120/quality/80/optimize'},\n",
       " {'title': '잘할게',\n",
       "  'singer': '#안녕',\n",
       "  'like': 43812,\n",
       "  'image': 'https://cdnimg.melon.co.kr/cm2/album/images/105/32/045/10532045_20201210143401_500.jpg/melon/resize/120/quality/80/optimize'},\n",
       " {'title': '행복해',\n",
       "  'singer': '임영웅',\n",
       "  'like': 230375,\n",
       "  'image': 'https://cdnimg.melon.co.kr/cm2/album/images/105/04/759/10504759_20201016144042_500.jpg/melon/resize/120/quality/80/optimize'},\n",
       " {'title': '사랑하게 될 줄 알았어',\n",
       "  'singer': '아이유',\n",
       "  'like': 155658,\n",
       "  'image': 'https://cdnimg.melon.co.kr/cm2/album/images/104/33/754/10433754_20200521162928_500.jpg/melon/resize/120/quality/80/optimize'},\n",
       " {'title': 'Love poem',\n",
       "  'singer': '허각',\n",
       "  'like': 42314,\n",
       "  'image': 'https://cdnimg.melon.co.kr/cm2/album/images/103/46/650/10346650_500.jpg/melon/resize/120/quality/80/optimize'},\n",
       " {'title': '너의 번호를 누르고 (Prod. 영화처럼)',\n",
       "  'singer': '폴킴',\n",
       "  'like': 121823,\n",
       "  'image': 'https://cdnimg.melon.co.kr/cm2/album/images/103/59/126/10359126_500.jpg/melon/resize/120/quality/80/optimize'},\n",
       " {'title': '이제 나만 믿어요',\n",
       "  'singer': '마크툽 (MAKTUB)',\n",
       "  'like': 26357,\n",
       "  'image': 'https://cdnimg.melon.co.kr/cm2/album/images/104/12/319/10412319_20200403103006_500.jpg/melon/resize/120/quality/80/optimize'},\n",
       " {'title': '미리 메리 크리스마스 (Feat. 천둥 Of MBLAQ)',\n",
       "  'singer': '이라온',\n",
       "  'like': 39039,\n",
       "  'image': 'https://cdnimg.melon.co.kr/cm/album/images/010/93/562/1093562_500.jpg/melon/resize/120/quality/80/optimize'},\n",
       " {'title': '우린 어쩌다 헤어진 걸까',\n",
       "  'singer': '지코 (ZICO)',\n",
       "  'like': 263255,\n",
       "  'image': 'https://cdnimg.melon.co.kr/cm2/album/images/105/39/679/10539679_20201228153155_500.jpg/melon/resize/120/quality/80/optimize'},\n",
       " {'title': \"Don't Start Now\",\n",
       "  'singer': '청하',\n",
       "  'like': 48300,\n",
       "  'image': 'https://cdnimg.melon.co.kr/cm2/album/images/103/45/880/10345880_20200326181909_500.jpg/melon/resize/120/quality/80/optimize'},\n",
       " {'title': '너도 아는',\n",
       "  'singer': 'Christopher',\n",
       "  'like': 74332,\n",
       "  'image': 'https://cdnimg.melon.co.kr/cm2/album/images/105/08/892/10508892_20201026152541_500.jpg/melon/resize/120/quality/80/optimize'},\n",
       " {'title': '별을 담은 시 (Ode To The Stars)',\n",
       "  'singer': 'Etham',\n",
       "  'like': 8961,\n",
       "  'image': 'https://cdnimg.melon.co.kr/cm2/album/images/104/86/085/10486085_20200904134735_500.jpg/melon/resize/120/quality/80/optimize'},\n",
       " {'title': '아무노래',\n",
       "  'singer': '원슈타인',\n",
       "  'like': 139368,\n",
       "  'image': 'https://cdnimg.melon.co.kr/cm2/album/images/103/75/118/10375118_20200113150502_500.jpg/melon/resize/120/quality/80/optimize'},\n",
       " {'title': 'Bad Boy',\n",
       "  'singer': '싹쓰리 (유두래곤, 린다G, 비룡)',\n",
       "  'like': 16518,\n",
       "  'image': 'https://cdnimg.melon.co.kr/cm2/album/images/104/94/790/10494790_20200923115138_500.jpg/melon/resize/120/quality/80/optimize'},\n",
       " {'title': '12:45 (Stripped)',\n",
       "  'singer': 'Lauv',\n",
       "  'like': 166084,\n",
       "  'image': 'https://cdnimg.melon.co.kr/cm/album/images/102/35/362/10235362_500.jpg/melon/resize/120/quality/80/optimize'},\n",
       " {'title': '적외선 카메라',\n",
       "  'singer': 'Conan Gray',\n",
       "  'like': 54972,\n",
       "  'image': 'https://cdnimg.melon.co.kr/cm2/album/images/105/29/161/10529161_20201204130014_500.jpg/melon/resize/120/quality/80/optimize'},\n",
       " {'title': '다시 여기 바닷가',\n",
       "  'singer': '머쉬베놈 (MUSHVENOM)',\n",
       "  'like': 59448,\n",
       "  'image': 'https://cdnimg.melon.co.kr/cm2/album/images/104/62/799/10462799_20200717150822_500.jpg/melon/resize/120/quality/80/optimize'},\n",
       " {'title': 'Paris In The Rain',\n",
       "  'singer': '방탄소년단',\n",
       "  'like': 137149,\n",
       "  'image': 'https://cdnimg.melon.co.kr/cm/album/images/102/09/752/10209752_500.jpg/melon/resize/120/quality/80/optimize'},\n",
       " {'title': 'Maniac',\n",
       "  'singer': 'Crush',\n",
       "  'like': 43583,\n",
       "  'image': 'https://cdnimg.melon.co.kr/cm2/album/images/103/43/276/10343276_500.jpg/melon/resize/120/quality/80/optimize'},\n",
       " {'title': '가다 (Feat. 사이먼 도미닉, The Quiett) (Prod. SLO)',\n",
       "  'singer': 'aespa',\n",
       "  'like': 256299,\n",
       "  'image': 'https://cdnimg.melon.co.kr/cm2/album/images/105/36/658/10536658_20201218161800_500.jpg/melon/resize/120/quality/80/optimize'},\n",
       " {'title': 'ON',\n",
       "  'singer': '스윙스',\n",
       "  'like': 51826,\n",
       "  'image': 'https://cdnimg.melon.co.kr/cm2/album/images/103/77/346/10377346_20200221153622_500.jpg/melon/resize/120/quality/80/optimize'},\n",
       " {'title': '놓아줘 (with 태연)',\n",
       "  'singer': '맥대디 (Mckdaddy)',\n",
       "  'like': 37107,\n",
       "  'image': 'https://cdnimg.melon.co.kr/cm2/album/images/105/05/425/10505425_20201019154226_500.jpg/melon/resize/120/quality/80/optimize'},\n",
       " {'title': 'Black Mamba',\n",
       "  'singer': 'Khakii (카키)',\n",
       "  'like': 130846,\n",
       "  'image': 'https://cdnimg.melon.co.kr/cm2/album/images/105/19/346/10519346_20201117151537_500.jpg/melon/resize/120/quality/80/optimize'},\n",
       " {'title': '원해 (Feat. 팔로알토) (Prod. 코드 쿤스트)',\n",
       "  'singer': '래원 (Layone)',\n",
       "  'like': 130044,\n",
       "  'image': 'https://cdnimg.melon.co.kr/cm2/album/images/105/21/601/10521601_20201120125511_500.jpg/melon/resize/120/quality/80/optimize'},\n",
       " {'title': 'For You (Feat. Crush)',\n",
       "  'singer': '이하이',\n",
       "  'like': 98090,\n",
       "  'image': 'https://cdnimg.melon.co.kr/cm2/album/images/105/34/900/10534900_20201216114430_500.jpg/melon/resize/120/quality/80/optimize'},\n",
       " {'title': '12월의 어느 겨울…',\n",
       "  'singer': '윤도 (YoonDo)',\n",
       "  'like': 30030,\n",
       "  'image': 'https://cdnimg.melon.co.kr/cm2/album/images/105/38/915/10538915_20201224145649_500.jpg/melon/resize/120/quality/80/optimize'},\n",
       " {'title': 'Blue & Grey',\n",
       "  'singer': '방탄소년단',\n",
       "  'like': 130658,\n",
       "  'image': 'https://cdnimg.melon.co.kr/cm2/album/images/105/21/521/10521521_20201120112220_500.jpg/melon/resize/120/quality/80/optimize'},\n",
       " {'title': '요즘',\n",
       "  'singer': '양다일',\n",
       "  'like': 127616,\n",
       "  'image': 'https://cdnimg.melon.co.kr/cm2/album/images/105/40/303/10540303_20201229151248_500.jpg/melon/resize/120/quality/80/optimize'},\n",
       " {'title': '내 방을 여행하는 법',\n",
       "  'singer': '방탄소년단',\n",
       "  'like': 108275,\n",
       "  'image': 'https://cdnimg.melon.co.kr/cm2/album/images/105/21/521/10521521_20201120112220_500.jpg/melon/resize/120/quality/80/optimize'},\n",
       " {'title': 'Your Lights',\n",
       "  'singer': '이수 (엠씨더맥스)',\n",
       "  'like': 132023,\n",
       "  'image': 'https://cdnimg.melon.co.kr/cm2/album/images/105/43/164/10543164_20210106143343_500.jpg/melon/resize/120/quality/80/optimize'}]"
      ]
     },
     "execution_count": 38,
     "metadata": {},
     "output_type": "execute_result"
    }
   ],
   "source": [
    "imsi"
   ]
  },
  {
   "cell_type": "code",
   "execution_count": 39,
   "metadata": {
    "scrolled": true
   },
   "outputs": [
    {
     "data": {
      "text/plain": [
       "Database(MongoClient(host=['localhost:27017'], document_class=dict, tz_aware=False, connect=True), 'melon')"
      ]
     },
     "execution_count": 39,
     "metadata": {},
     "output_type": "execute_result"
    }
   ],
   "source": [
    "mel = conn.melon\n",
    "mel"
   ]
  },
  {
   "cell_type": "code",
   "execution_count": 40,
   "metadata": {},
   "outputs": [
    {
     "data": {
      "text/plain": [
       "Collection(Database(MongoClient(host=['localhost:27017'], document_class=dict, tz_aware=False, connect=True), 'melon'), 'docu')"
      ]
     },
     "execution_count": 40,
     "metadata": {},
     "output_type": "execute_result"
    }
   ],
   "source": [
    "doc = mel.docu\n",
    "doc"
   ]
  },
  {
   "cell_type": "code",
   "execution_count": 41,
   "metadata": {},
   "outputs": [
    {
     "data": {
      "text/plain": [
       "<pymongo.results.InsertManyResult at 0x20585c35f08>"
      ]
     },
     "execution_count": 41,
     "metadata": {},
     "output_type": "execute_result"
    }
   ],
   "source": [
    "doc.insert_many(imsi)"
   ]
  },
  {
   "cell_type": "code",
   "execution_count": 42,
   "metadata": {},
   "outputs": [
    {
     "data": {
      "text/plain": [
       "<pymongo.cursor.Cursor at 0x20585c28a48>"
      ]
     },
     "execution_count": 42,
     "metadata": {},
     "output_type": "execute_result"
    }
   ],
   "source": [
    "doc.find()"
   ]
  },
  {
   "cell_type": "code",
   "execution_count": 43,
   "metadata": {},
   "outputs": [],
   "source": [
    "import pandas as pd"
   ]
  },
  {
   "cell_type": "code",
   "execution_count": 44,
   "metadata": {},
   "outputs": [],
   "source": [
    "data = pd.read_csv('docu.csv') #주피터파일과 같은경로에 놔야 읽어줌"
   ]
  },
  {
   "cell_type": "code",
   "execution_count": 45,
   "metadata": {},
   "outputs": [
    {
     "data": {
      "text/html": [
       "<div>\n",
       "<style scoped>\n",
       "    .dataframe tbody tr th:only-of-type {\n",
       "        vertical-align: middle;\n",
       "    }\n",
       "\n",
       "    .dataframe tbody tr th {\n",
       "        vertical-align: top;\n",
       "    }\n",
       "\n",
       "    .dataframe thead th {\n",
       "        text-align: right;\n",
       "    }\n",
       "</style>\n",
       "<table border=\"1\" class=\"dataframe\">\n",
       "  <thead>\n",
       "    <tr style=\"text-align: right;\">\n",
       "      <th></th>\n",
       "      <th>title</th>\n",
       "      <th>writer</th>\n",
       "      <th>stars</th>\n",
       "    </tr>\n",
       "  </thead>\n",
       "  <tbody>\n",
       "    <tr>\n",
       "      <td>0</td>\n",
       "      <td>참교육</td>\n",
       "      <td>채용택 / 한가람</td>\n",
       "      <td>9.71</td>\n",
       "    </tr>\n",
       "    <tr>\n",
       "      <td>1</td>\n",
       "      <td>뷰티풀 군바리</td>\n",
       "      <td>설이 / 윤성원</td>\n",
       "      <td>9.82</td>\n",
       "    </tr>\n",
       "    <tr>\n",
       "      <td>2</td>\n",
       "      <td>백수세끼</td>\n",
       "      <td>치즈</td>\n",
       "      <td>9.87</td>\n",
       "    </tr>\n",
       "    <tr>\n",
       "      <td>3</td>\n",
       "      <td>윈드브레이커</td>\n",
       "      <td>조용석</td>\n",
       "      <td>9.87</td>\n",
       "    </tr>\n",
       "    <tr>\n",
       "      <td>4</td>\n",
       "      <td>소녀의 세계</td>\n",
       "      <td>모랑지</td>\n",
       "      <td>9.97</td>\n",
       "    </tr>\n",
       "    <tr>\n",
       "      <td>5</td>\n",
       "      <td>장씨세가 호위무사</td>\n",
       "      <td>조형근 / 김인호</td>\n",
       "      <td>9.97</td>\n",
       "    </tr>\n",
       "    <tr>\n",
       "      <td>6</td>\n",
       "      <td>만렙돌파</td>\n",
       "      <td>성불예정,홍실 / 미노</td>\n",
       "      <td>8.15</td>\n",
       "    </tr>\n",
       "    <tr>\n",
       "      <td>7</td>\n",
       "      <td>파이게임</td>\n",
       "      <td>배진수</td>\n",
       "      <td>9.84</td>\n",
       "    </tr>\n",
       "    <tr>\n",
       "      <td>8</td>\n",
       "      <td>앵무살수</td>\n",
       "      <td>김성진</td>\n",
       "      <td>9.98</td>\n",
       "    </tr>\n",
       "    <tr>\n",
       "      <td>9</td>\n",
       "      <td>바이러스X</td>\n",
       "      <td>준 / 하랑</td>\n",
       "      <td>7.59</td>\n",
       "    </tr>\n",
       "    <tr>\n",
       "      <td>10</td>\n",
       "      <td>유일무이 로맨스</td>\n",
       "      <td>두부</td>\n",
       "      <td>9.98</td>\n",
       "    </tr>\n",
       "    <tr>\n",
       "      <td>11</td>\n",
       "      <td>칼가는 소녀</td>\n",
       "      <td>오리</td>\n",
       "      <td>9.97</td>\n",
       "    </tr>\n",
       "    <tr>\n",
       "      <td>12</td>\n",
       "      <td>요리GO</td>\n",
       "      <td>HO9</td>\n",
       "      <td>9.93</td>\n",
       "    </tr>\n",
       "    <tr>\n",
       "      <td>13</td>\n",
       "      <td>오늘의 순정망화</td>\n",
       "      <td>손하기</td>\n",
       "      <td>9.98</td>\n",
       "    </tr>\n",
       "    <tr>\n",
       "      <td>14</td>\n",
       "      <td>히어로메이커</td>\n",
       "      <td>빤쓰</td>\n",
       "      <td>9.96</td>\n",
       "    </tr>\n",
       "    <tr>\n",
       "      <td>15</td>\n",
       "      <td>순정말고 순종</td>\n",
       "      <td>슈안</td>\n",
       "      <td>9.92</td>\n",
       "    </tr>\n",
       "    <tr>\n",
       "      <td>16</td>\n",
       "      <td>결혼생활 그림일기</td>\n",
       "      <td>은꼼지</td>\n",
       "      <td>9.93</td>\n",
       "    </tr>\n",
       "    <tr>\n",
       "      <td>17</td>\n",
       "      <td>이탄국의 자청비</td>\n",
       "      <td>김보람 / 나넷</td>\n",
       "      <td>9.61</td>\n",
       "    </tr>\n",
       "    <tr>\n",
       "      <td>18</td>\n",
       "      <td>리턴 투 플레이어</td>\n",
       "      <td>인덱스 / 세혼</td>\n",
       "      <td>9.88</td>\n",
       "    </tr>\n",
       "    <tr>\n",
       "      <td>19</td>\n",
       "      <td>싸이코 리벤지</td>\n",
       "      <td>기송 / 넴가</td>\n",
       "      <td>9.82</td>\n",
       "    </tr>\n",
       "    <tr>\n",
       "      <td>20</td>\n",
       "      <td>개밥 먹는 남자</td>\n",
       "      <td>김태순</td>\n",
       "      <td>9.86</td>\n",
       "    </tr>\n",
       "    <tr>\n",
       "      <td>21</td>\n",
       "      <td>라서드</td>\n",
       "      <td>감람</td>\n",
       "      <td>9.78</td>\n",
       "    </tr>\n",
       "    <tr>\n",
       "      <td>22</td>\n",
       "      <td>이것도 친구라고</td>\n",
       "      <td>제야</td>\n",
       "      <td>9.96</td>\n",
       "    </tr>\n",
       "    <tr>\n",
       "      <td>23</td>\n",
       "      <td>아는 여자애</td>\n",
       "      <td>허니비</td>\n",
       "      <td>9.97</td>\n",
       "    </tr>\n",
       "    <tr>\n",
       "      <td>24</td>\n",
       "      <td>삶이 우리를 속일지라도</td>\n",
       "      <td>김지수</td>\n",
       "      <td>9.94</td>\n",
       "    </tr>\n",
       "    <tr>\n",
       "      <td>25</td>\n",
       "      <td>사장님을 잠금해제</td>\n",
       "      <td>박성현</td>\n",
       "      <td>9.94</td>\n",
       "    </tr>\n",
       "    <tr>\n",
       "      <td>26</td>\n",
       "      <td>꿈의 기업</td>\n",
       "      <td>문지현</td>\n",
       "      <td>9.97</td>\n",
       "    </tr>\n",
       "    <tr>\n",
       "      <td>27</td>\n",
       "      <td>왕따협상</td>\n",
       "      <td>아이아리</td>\n",
       "      <td>9.48</td>\n",
       "    </tr>\n",
       "    <tr>\n",
       "      <td>28</td>\n",
       "      <td>서브 콤플렉스</td>\n",
       "      <td>소이</td>\n",
       "      <td>9.94</td>\n",
       "    </tr>\n",
       "    <tr>\n",
       "      <td>29</td>\n",
       "      <td>선배, 그 립스틱 바르지마요</td>\n",
       "      <td>까페라떼 / JINHA</td>\n",
       "      <td>9.50</td>\n",
       "    </tr>\n",
       "    <tr>\n",
       "      <td>30</td>\n",
       "      <td>침범</td>\n",
       "      <td>공세리 / 영영이</td>\n",
       "      <td>9.84</td>\n",
       "    </tr>\n",
       "    <tr>\n",
       "      <td>31</td>\n",
       "      <td>피플</td>\n",
       "      <td>서승준 / 손창균</td>\n",
       "      <td>9.87</td>\n",
       "    </tr>\n",
       "    <tr>\n",
       "      <td>32</td>\n",
       "      <td>와이키키 뱀파이어</td>\n",
       "      <td>요니요니</td>\n",
       "      <td>9.97</td>\n",
       "    </tr>\n",
       "    <tr>\n",
       "      <td>33</td>\n",
       "      <td>도플갱어의 게임</td>\n",
       "      <td>킹스날 / 쥐주</td>\n",
       "      <td>9.94</td>\n",
       "    </tr>\n",
       "    <tr>\n",
       "      <td>34</td>\n",
       "      <td>두근두근 네가 좋아서</td>\n",
       "      <td>서혜은 / 박래모</td>\n",
       "      <td>9.93</td>\n",
       "    </tr>\n",
       "    <tr>\n",
       "      <td>35</td>\n",
       "      <td>이중첩자</td>\n",
       "      <td>피숙혜 / 옆집찰스</td>\n",
       "      <td>9.92</td>\n",
       "    </tr>\n",
       "    <tr>\n",
       "      <td>36</td>\n",
       "      <td>보살님이 캐리해!</td>\n",
       "      <td>성코 / 콩자</td>\n",
       "      <td>9.83</td>\n",
       "    </tr>\n",
       "    <tr>\n",
       "      <td>37</td>\n",
       "      <td>뱀파이어의 꽃</td>\n",
       "      <td>카나리아 / 동물</td>\n",
       "      <td>9.85</td>\n",
       "    </tr>\n",
       "    <tr>\n",
       "      <td>38</td>\n",
       "      <td>정보전사 202</td>\n",
       "      <td>이작가</td>\n",
       "      <td>9.15</td>\n",
       "    </tr>\n",
       "    <tr>\n",
       "      <td>39</td>\n",
       "      <td>안녕 나의 모모로</td>\n",
       "      <td>켄타</td>\n",
       "      <td>9.97</td>\n",
       "    </tr>\n",
       "    <tr>\n",
       "      <td>40</td>\n",
       "      <td>원하는 건 너 하나</td>\n",
       "      <td>달콤J,박성실 / sage</td>\n",
       "      <td>9.01</td>\n",
       "    </tr>\n",
       "    <tr>\n",
       "      <td>41</td>\n",
       "      <td>지구멸망버튼</td>\n",
       "      <td>박장고 / 신동구</td>\n",
       "      <td>9.71</td>\n",
       "    </tr>\n",
       "    <tr>\n",
       "      <td>42</td>\n",
       "      <td>인간의 온도</td>\n",
       "      <td>이재익 / 양세준</td>\n",
       "      <td>9.91</td>\n",
       "    </tr>\n",
       "    <tr>\n",
       "      <td>43</td>\n",
       "      <td>하슬라</td>\n",
       "      <td>까를로스 / 유상진</td>\n",
       "      <td>9.93</td>\n",
       "    </tr>\n",
       "    <tr>\n",
       "      <td>44</td>\n",
       "      <td>여기 악마가 있어</td>\n",
       "      <td>맷집왕</td>\n",
       "      <td>9.89</td>\n",
       "    </tr>\n",
       "    <tr>\n",
       "      <td>45</td>\n",
       "      <td>드로잉 레시피</td>\n",
       "      <td>꼬모소이</td>\n",
       "      <td>9.96</td>\n",
       "    </tr>\n",
       "    <tr>\n",
       "      <td>46</td>\n",
       "      <td>백호랑</td>\n",
       "      <td>박혬</td>\n",
       "      <td>9.93</td>\n",
       "    </tr>\n",
       "    <tr>\n",
       "      <td>47</td>\n",
       "      <td>모락모락 왕세자님</td>\n",
       "      <td>원해</td>\n",
       "      <td>9.87</td>\n",
       "    </tr>\n",
       "    <tr>\n",
       "      <td>48</td>\n",
       "      <td>블루투스</td>\n",
       "      <td>국승원</td>\n",
       "      <td>7.29</td>\n",
       "    </tr>\n",
       "    <tr>\n",
       "      <td>49</td>\n",
       "      <td>헬로맨스</td>\n",
       "      <td>이공주 / 하얀독수리</td>\n",
       "      <td>9.73</td>\n",
       "    </tr>\n",
       "    <tr>\n",
       "      <td>50</td>\n",
       "      <td>평범한 8반</td>\n",
       "      <td>영파카</td>\n",
       "      <td>9.85</td>\n",
       "    </tr>\n",
       "  </tbody>\n",
       "</table>\n",
       "</div>"
      ],
      "text/plain": [
       "              title          writer  stars\n",
       "0               참교육       채용택 / 한가람   9.71\n",
       "1           뷰티풀 군바리        설이 / 윤성원   9.82\n",
       "2              백수세끼              치즈   9.87\n",
       "3            윈드브레이커             조용석   9.87\n",
       "4            소녀의 세계             모랑지   9.97\n",
       "5         장씨세가 호위무사       조형근 / 김인호   9.97\n",
       "6              만렙돌파    성불예정,홍실 / 미노   8.15\n",
       "7              파이게임             배진수   9.84\n",
       "8              앵무살수             김성진   9.98\n",
       "9             바이러스X          준 / 하랑   7.59\n",
       "10         유일무이 로맨스              두부   9.98\n",
       "11           칼가는 소녀              오리   9.97\n",
       "12             요리GO             HO9   9.93\n",
       "13         오늘의 순정망화             손하기   9.98\n",
       "14           히어로메이커              빤쓰   9.96\n",
       "15          순정말고 순종              슈안   9.92\n",
       "16        결혼생활 그림일기             은꼼지   9.93\n",
       "17         이탄국의 자청비        김보람 / 나넷   9.61\n",
       "18        리턴 투 플레이어        인덱스 / 세혼   9.88\n",
       "19          싸이코 리벤지         기송 / 넴가   9.82\n",
       "20         개밥 먹는 남자             김태순   9.86\n",
       "21              라서드              감람   9.78\n",
       "22         이것도 친구라고              제야   9.96\n",
       "23           아는 여자애             허니비   9.97\n",
       "24     삶이 우리를 속일지라도             김지수   9.94\n",
       "25        사장님을 잠금해제             박성현   9.94\n",
       "26            꿈의 기업             문지현   9.97\n",
       "27             왕따협상            아이아리   9.48\n",
       "28          서브 콤플렉스              소이   9.94\n",
       "29  선배, 그 립스틱 바르지마요    까페라떼 / JINHA   9.50\n",
       "30               침범       공세리 / 영영이   9.84\n",
       "31               피플       서승준 / 손창균   9.87\n",
       "32        와이키키 뱀파이어            요니요니   9.97\n",
       "33         도플갱어의 게임        킹스날 / 쥐주   9.94\n",
       "34      두근두근 네가 좋아서       서혜은 / 박래모   9.93\n",
       "35             이중첩자      피숙혜 / 옆집찰스   9.92\n",
       "36        보살님이 캐리해!         성코 / 콩자   9.83\n",
       "37          뱀파이어의 꽃       카나리아 / 동물   9.85\n",
       "38         정보전사 202             이작가   9.15\n",
       "39        안녕 나의 모모로              켄타   9.97\n",
       "40       원하는 건 너 하나  달콤J,박성실 / sage   9.01\n",
       "41           지구멸망버튼       박장고 / 신동구   9.71\n",
       "42           인간의 온도       이재익 / 양세준   9.91\n",
       "43              하슬라      까를로스 / 유상진   9.93\n",
       "44        여기 악마가 있어             맷집왕   9.89\n",
       "45          드로잉 레시피            꼬모소이   9.96\n",
       "46              백호랑              박혬   9.93\n",
       "47        모락모락 왕세자님              원해   9.87\n",
       "48             블루투스             국승원   7.29\n",
       "49             헬로맨스     이공주 / 하얀독수리   9.73\n",
       "50           평범한 8반             영파카   9.85"
      ]
     },
     "execution_count": 45,
     "metadata": {},
     "output_type": "execute_result"
    }
   ],
   "source": [
    "data"
   ]
  },
  {
   "cell_type": "code",
   "execution_count": 46,
   "metadata": {},
   "outputs": [],
   "source": [
    "import matplotlib.pyplot as plt #한글을 지원안함, 한글 폰트 지정필수\n",
    "import seaborn as sns"
   ]
  },
  {
   "cell_type": "code",
   "execution_count": 47,
   "metadata": {},
   "outputs": [],
   "source": [
    "import platform #한글 폰트 지정, 세팅 방법\n",
    "\n",
    "path = \"c:/Windows/Fonts/malgun.ttf\"\n",
    "from matplotlib import font_manager, rc\n",
    "if platform.system() == 'Darwin':\n",
    "    rc('font', family='AppleGothic')\n",
    "elif platform.system() == 'Windows':\n",
    "    font_name = font_manager.FontProperties(fname=path).get_name()\n",
    "    rc('font', family=font_name)\n",
    "else:\n",
    "    print('Unknown system... sorry~~~~')"
   ]
  },
  {
   "cell_type": "code",
   "execution_count": 48,
   "metadata": {},
   "outputs": [
    {
     "ename": "ValueError",
     "evalue": "Could not interpret input 'like'",
     "output_type": "error",
     "traceback": [
      "\u001b[1;31m---------------------------------------------------------------------------\u001b[0m",
      "\u001b[1;31mValueError\u001b[0m                                Traceback (most recent call last)",
      "\u001b[1;32m<ipython-input-48-6f2eaa5d1af0>\u001b[0m in \u001b[0;36m<module>\u001b[1;34m\u001b[0m\n\u001b[0;32m      1\u001b[0m \u001b[0mplt\u001b[0m\u001b[1;33m.\u001b[0m\u001b[0mfigure\u001b[0m\u001b[1;33m(\u001b[0m\u001b[0mfigsize\u001b[0m\u001b[1;33m=\u001b[0m\u001b[1;33m[\u001b[0m\u001b[1;36m10\u001b[0m\u001b[1;33m,\u001b[0m\u001b[1;36m10\u001b[0m\u001b[1;33m]\u001b[0m\u001b[1;33m)\u001b[0m\u001b[1;33m\u001b[0m\u001b[1;33m\u001b[0m\u001b[0m\n\u001b[0;32m      2\u001b[0m \u001b[1;33m\u001b[0m\u001b[0m\n\u001b[1;32m----> 3\u001b[1;33m \u001b[0mbar\u001b[0m \u001b[1;33m=\u001b[0m \u001b[0msns\u001b[0m\u001b[1;33m.\u001b[0m\u001b[0mbarplot\u001b[0m\u001b[1;33m(\u001b[0m\u001b[0mx\u001b[0m\u001b[1;33m=\u001b[0m\u001b[1;34m'title'\u001b[0m\u001b[1;33m,\u001b[0m \u001b[0my\u001b[0m\u001b[1;33m=\u001b[0m\u001b[1;34m'like'\u001b[0m\u001b[1;33m,\u001b[0m \u001b[0mdata\u001b[0m\u001b[1;33m=\u001b[0m\u001b[0mdata\u001b[0m\u001b[1;33m.\u001b[0m\u001b[0mhead\u001b[0m\u001b[1;33m(\u001b[0m\u001b[1;36m10\u001b[0m\u001b[1;33m)\u001b[0m\u001b[1;33m)\u001b[0m\u001b[1;31m#x축에 타이틀, y축에 라이크\u001b[0m\u001b[1;33m\u001b[0m\u001b[1;33m\u001b[0m\u001b[0m\n\u001b[0m\u001b[0;32m      4\u001b[0m \u001b[1;31m#10개만 출력\u001b[0m\u001b[1;33m\u001b[0m\u001b[1;33m\u001b[0m\u001b[1;33m\u001b[0m\u001b[0m\n\u001b[0;32m      5\u001b[0m \u001b[1;33m\u001b[0m\u001b[0m\n",
      "\u001b[1;32m~\\Anaconda3\\lib\\site-packages\\seaborn\\categorical.py\u001b[0m in \u001b[0;36mbarplot\u001b[1;34m(x, y, hue, data, order, hue_order, estimator, ci, n_boot, units, orient, color, palette, saturation, errcolor, errwidth, capsize, dodge, ax, **kwargs)\u001b[0m\n\u001b[0;32m   3147\u001b[0m                           \u001b[0mestimator\u001b[0m\u001b[1;33m,\u001b[0m \u001b[0mci\u001b[0m\u001b[1;33m,\u001b[0m \u001b[0mn_boot\u001b[0m\u001b[1;33m,\u001b[0m \u001b[0munits\u001b[0m\u001b[1;33m,\u001b[0m\u001b[1;33m\u001b[0m\u001b[1;33m\u001b[0m\u001b[0m\n\u001b[0;32m   3148\u001b[0m                           \u001b[0morient\u001b[0m\u001b[1;33m,\u001b[0m \u001b[0mcolor\u001b[0m\u001b[1;33m,\u001b[0m \u001b[0mpalette\u001b[0m\u001b[1;33m,\u001b[0m \u001b[0msaturation\u001b[0m\u001b[1;33m,\u001b[0m\u001b[1;33m\u001b[0m\u001b[1;33m\u001b[0m\u001b[0m\n\u001b[1;32m-> 3149\u001b[1;33m                           errcolor, errwidth, capsize, dodge)\n\u001b[0m\u001b[0;32m   3150\u001b[0m \u001b[1;33m\u001b[0m\u001b[0m\n\u001b[0;32m   3151\u001b[0m     \u001b[1;32mif\u001b[0m \u001b[0max\u001b[0m \u001b[1;32mis\u001b[0m \u001b[1;32mNone\u001b[0m\u001b[1;33m:\u001b[0m\u001b[1;33m\u001b[0m\u001b[1;33m\u001b[0m\u001b[0m\n",
      "\u001b[1;32m~\\Anaconda3\\lib\\site-packages\\seaborn\\categorical.py\u001b[0m in \u001b[0;36m__init__\u001b[1;34m(self, x, y, hue, data, order, hue_order, estimator, ci, n_boot, units, orient, color, palette, saturation, errcolor, errwidth, capsize, dodge)\u001b[0m\n\u001b[0;32m   1605\u001b[0m         \u001b[1;34m\"\"\"Initialize the plotter.\"\"\"\u001b[0m\u001b[1;33m\u001b[0m\u001b[1;33m\u001b[0m\u001b[0m\n\u001b[0;32m   1606\u001b[0m         self.establish_variables(x, y, hue, data, orient,\n\u001b[1;32m-> 1607\u001b[1;33m                                  order, hue_order, units)\n\u001b[0m\u001b[0;32m   1608\u001b[0m         \u001b[0mself\u001b[0m\u001b[1;33m.\u001b[0m\u001b[0mestablish_colors\u001b[0m\u001b[1;33m(\u001b[0m\u001b[0mcolor\u001b[0m\u001b[1;33m,\u001b[0m \u001b[0mpalette\u001b[0m\u001b[1;33m,\u001b[0m \u001b[0msaturation\u001b[0m\u001b[1;33m)\u001b[0m\u001b[1;33m\u001b[0m\u001b[1;33m\u001b[0m\u001b[0m\n\u001b[0;32m   1609\u001b[0m         \u001b[0mself\u001b[0m\u001b[1;33m.\u001b[0m\u001b[0mestimate_statistic\u001b[0m\u001b[1;33m(\u001b[0m\u001b[0mestimator\u001b[0m\u001b[1;33m,\u001b[0m \u001b[0mci\u001b[0m\u001b[1;33m,\u001b[0m \u001b[0mn_boot\u001b[0m\u001b[1;33m)\u001b[0m\u001b[1;33m\u001b[0m\u001b[1;33m\u001b[0m\u001b[0m\n",
      "\u001b[1;32m~\\Anaconda3\\lib\\site-packages\\seaborn\\categorical.py\u001b[0m in \u001b[0;36mestablish_variables\u001b[1;34m(self, x, y, hue, data, orient, order, hue_order, units)\u001b[0m\n\u001b[0;32m    153\u001b[0m                 \u001b[1;32mif\u001b[0m \u001b[0misinstance\u001b[0m\u001b[1;33m(\u001b[0m\u001b[0minput\u001b[0m\u001b[1;33m,\u001b[0m \u001b[0mstring_types\u001b[0m\u001b[1;33m)\u001b[0m\u001b[1;33m:\u001b[0m\u001b[1;33m\u001b[0m\u001b[1;33m\u001b[0m\u001b[0m\n\u001b[0;32m    154\u001b[0m                     \u001b[0merr\u001b[0m \u001b[1;33m=\u001b[0m \u001b[1;34m\"Could not interpret input '{}'\"\u001b[0m\u001b[1;33m.\u001b[0m\u001b[0mformat\u001b[0m\u001b[1;33m(\u001b[0m\u001b[0minput\u001b[0m\u001b[1;33m)\u001b[0m\u001b[1;33m\u001b[0m\u001b[1;33m\u001b[0m\u001b[0m\n\u001b[1;32m--> 155\u001b[1;33m                     \u001b[1;32mraise\u001b[0m \u001b[0mValueError\u001b[0m\u001b[1;33m(\u001b[0m\u001b[0merr\u001b[0m\u001b[1;33m)\u001b[0m\u001b[1;33m\u001b[0m\u001b[1;33m\u001b[0m\u001b[0m\n\u001b[0m\u001b[0;32m    156\u001b[0m \u001b[1;33m\u001b[0m\u001b[0m\n\u001b[0;32m    157\u001b[0m             \u001b[1;31m# Figure out the plotting orientation\u001b[0m\u001b[1;33m\u001b[0m\u001b[1;33m\u001b[0m\u001b[1;33m\u001b[0m\u001b[0m\n",
      "\u001b[1;31mValueError\u001b[0m: Could not interpret input 'like'"
     ]
    },
    {
     "data": {
      "text/plain": [
       "<Figure size 720x720 with 0 Axes>"
      ]
     },
     "metadata": {},
     "output_type": "display_data"
    }
   ],
   "source": [
    "plt.figure(figsize=[10,10])\n",
    "\n",
    "bar = sns.barplot(x='title', y='like', data=data.head(10))#x축에 타이틀, y축에 라이크\n",
    "#10개만 출력\n",
    "\n",
    "for item in bar.get_xticklabels():\n",
    "    item.set_rotation(45)\n",
    "\n",
    "plt.show()"
   ]
  },
  {
   "cell_type": "code",
   "execution_count": null,
   "metadata": {},
   "outputs": [],
   "source": [
    "plt.figure(figsize=[10,10])\n",
    "\n",
    "plt.pie(data['like'].head(10),\n",
    "       explode=[0,0,0,0,0,0,0,0,0,0], \n",
    "        labels=data['title'].head(10), \n",
    "        autopct='%1.2f%%', # second decimal place\n",
    "        shadow=True, \n",
    "        startangle=90,\n",
    "        textprops={'fontsize': 14}) \n",
    "\n",
    "plt.title('Melon - Top10(좋아요)', fontsize=20)\n",
    "plt.show()"
   ]
  },
  {
   "cell_type": "code",
   "execution_count": null,
   "metadata": {},
   "outputs": [],
   "source": [
    "plt.figure()\n",
    "plt.barh(data['title'].head(10), data['like'].head(10))\n",
    "plt.show()"
   ]
  },
  {
   "cell_type": "raw",
   "metadata": {},
   "source": []
  },
  {
   "cell_type": "code",
   "execution_count": null,
   "metadata": {},
   "outputs": [],
   "source": []
  }
 ],
 "metadata": {
  "kernelspec": {
   "display_name": "Python 3",
   "language": "python",
   "name": "python3"
  },
  "language_info": {
   "codemirror_mode": {
    "name": "ipython",
    "version": 3
   },
   "file_extension": ".py",
   "mimetype": "text/x-python",
   "name": "python",
   "nbconvert_exporter": "python",
   "pygments_lexer": "ipython3",
   "version": "3.7.4"
  }
 },
 "nbformat": 4,
 "nbformat_minor": 2
}
